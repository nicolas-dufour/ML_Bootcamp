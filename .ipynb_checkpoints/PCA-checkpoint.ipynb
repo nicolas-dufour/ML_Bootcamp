{
 "cells": [
  {
   "cell_type": "markdown",
   "metadata": {},
   "source": [
    "# TP PCA"
   ]
  },
  {
   "cell_type": "markdown",
   "metadata": {},
   "source": [
    "Regles:\n",
    " - Pas le droit a sklearn a aprt les datasets\n",
    " - Aucune boucle for est utilisée pour le calcul de la PCA"
   ]
  },
  {
   "cell_type": "code",
   "execution_count": null,
   "metadata": {},
   "outputs": [],
   "source": [
    "import numpy as np\n",
    "from sklearn import datasets\n",
    "from src.utils import biplot, plot_pca"
   ]
  },
  {
   "cell_type": "markdown",
   "metadata": {},
   "source": [
    "Pour tester, on utilisera le dataset iris, un standard de la datascience. Ce dataset contient 3 types différent d'iris. On va grace a la PCA essayer d'y voir plus clair"
   ]
  },
  {
   "cell_type": "code",
   "execution_count": null,
   "metadata": {},
   "outputs": [],
   "source": [
    "iris = datasets.load_iris()\n",
    "X = iris['data']\n",
    "y = iris['target']\n",
    "y_name = iris['target_names'][iris['target']]\n",
    "feature_names = iris['feature_names']"
   ]
  },
  {
   "cell_type": "markdown",
   "metadata": {},
   "source": [
    "Maintenant, c'est l'heure de coder notre PCA. Rappel: Doit etre fais que avec numpy.\n",
    "Tips:\n",
    "  - np.linalg.svd donne la decomposition svd. On preferera la SVD car plus rapide et plus stable que la decomposition en valeur propre de la covariance.\n",
    "  - La multiplication matricielle peut etre faite par np.dot ou l'operateur @.\n",
    "  - On rappelle que l'on doit centrer les données avant de faire la PCA\n",
    "  - La ou il y a des commentaires, il faut completer le code.\n",
    "  - On met a disposition 2 fonction dans src.utils plot_pca qui permet de aisement visualiser la reduction de dimension et biplot qui retourne le biplot de la pca.\n",
    "Completez les fonctions"
   ]
  },
  {
   "cell_type": "code",
   "execution_count": null,
   "metadata": {},
   "outputs": [],
   "source": [
    "class PCA:\n",
    "    def __init__(self, n_components):\n",
    "        self.n_components = n_components\n",
    "\n",
    "    def fit(self, X):\n",
    "        self.mean = #Mean\n",
    "        X_tilde = X-self.mean\n",
    "        ### Compute the needed transformations\n",
    "        self.components = #Components\n",
    "        self.explained_variance = # vector of the explained variance of  each compoasant\n",
    "\n",
    "    def transform(self, X):\n",
    "        X_tilde = X-self.mean\n",
    "        ### Compute the PCA of the given data\n",
    "        return X_red\n",
    "\n",
    "    def fit_transform(self, X):\n",
    "        self.fit(X)\n",
    "        return self.transform(X)"
   ]
  },
  {
   "cell_type": "markdown",
   "metadata": {},
   "source": [
    "#### Exercice 1.\n",
    "Questions:\n",
    "1. Effectuez l'ACP sur les données iris. Projetez en 2d. Que pouvez vous conclure sur la relation des 2 especes\n",
    "2. En plotant un biplot que pouvez vous conclure sur la signification des composants principaux? Qu'est ce qui distingue sentosa des 2 autres variétés?\n",
    "3. Que constatez vous sur la part de variance de la composante 1? Que pouvez vous en conclure sur la signification de la variable 2? "
   ]
  },
  {
   "cell_type": "markdown",
   "metadata": {},
   "source": [
    "##### Question 1.1"
   ]
  },
  {
   "cell_type": "code",
   "execution_count": null,
   "metadata": {},
   "outputs": [],
   "source": [
    "### code goes here"
   ]
  },
  {
   "cell_type": "markdown",
   "metadata": {},
   "source": [
    "Comment here"
   ]
  },
  {
   "cell_type": "markdown",
   "metadata": {},
   "source": [
    "##### Question 1.2"
   ]
  },
  {
   "cell_type": "code",
   "execution_count": null,
   "metadata": {},
   "outputs": [],
   "source": [
    "### code goes here"
   ]
  },
  {
   "cell_type": "markdown",
   "metadata": {},
   "source": [
    "Comment here"
   ]
  },
  {
   "cell_type": "markdown",
   "metadata": {},
   "source": [
    "##### Question 1.3"
   ]
  },
  {
   "cell_type": "code",
   "execution_count": null,
   "metadata": {},
   "outputs": [],
   "source": [
    "### code goes here"
   ]
  },
  {
   "cell_type": "markdown",
   "metadata": {},
   "source": [
    "Comment here"
   ]
  },
  {
   "cell_type": "markdown",
   "metadata": {},
   "source": [
    "#### Exercice 2:"
   ]
  },
  {
   "cell_type": "code",
   "execution_count": null,
   "metadata": {},
   "outputs": [],
   "source": [
    "digits = datasets.load_digits()\n",
    "X = digits['data']\n",
    "y = digits['target']\n",
    "y_name = digits['target_names'][digits['target']]"
   ]
  },
  {
   "cell_type": "markdown",
   "metadata": {},
   "source": [
    "Questions:\n",
    "1. Quel est la dimensions des données de départ?\n",
    "2. Effectuer une visualisation par PCA? Que constatez vous?\n",
    "3. Quel critique pouvez vous emmettre sur cet embeding?"
   ]
  },
  {
   "cell_type": "markdown",
   "metadata": {},
   "source": [
    "##### Question 2.1"
   ]
  },
  {
   "cell_type": "code",
   "execution_count": null,
   "metadata": {},
   "outputs": [],
   "source": [
    "### code goes here"
   ]
  },
  {
   "cell_type": "markdown",
   "metadata": {},
   "source": [
    "Comment here"
   ]
  },
  {
   "cell_type": "markdown",
   "metadata": {},
   "source": [
    "##### Question 2.2"
   ]
  },
  {
   "cell_type": "code",
   "execution_count": null,
   "metadata": {},
   "outputs": [],
   "source": [
    "### code goes here"
   ]
  },
  {
   "cell_type": "markdown",
   "metadata": {},
   "source": [
    "Comment here"
   ]
  },
  {
   "cell_type": "markdown",
   "metadata": {},
   "source": [
    "##### Questions 2.3"
   ]
  },
  {
   "cell_type": "markdown",
   "metadata": {},
   "source": [
    "Comment here"
   ]
  }
 ],
 "metadata": {
  "kernelspec": {
   "display_name": "Python 3",
   "language": "python",
   "name": "python3"
  },
  "language_info": {
   "codemirror_mode": {
    "name": "ipython",
    "version": 3
   },
   "file_extension": ".py",
   "mimetype": "text/x-python",
   "name": "python",
   "nbconvert_exporter": "python",
   "pygments_lexer": "ipython3",
   "version": "3.7.3"
  }
 },
 "nbformat": 4,
 "nbformat_minor": 4
}
