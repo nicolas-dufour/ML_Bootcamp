{
 "cells": [
  {
   "cell_type": "markdown",
   "metadata": {},
   "source": [
    "# TP Regression 1"
   ]
  },
  {
   "cell_type": "code",
   "execution_count": 3,
   "metadata": {},
   "outputs": [],
   "source": [
    "import numpy as np\n",
    "import plotly.express as px\n",
    "from src.utils import plot_regression"
   ]
  },
  {
   "cell_type": "markdown",
   "metadata": {},
   "source": [
    "The function plot_regression is given to the user to plot the points in a 2d setting and the predicted regression. </br>\n",
    "The next class is given to the user to generate the desirated dataset. The user need to be given a numpy array with the vector $\\theta$. Then, fix a range x_min and x_max. The dataset while be generated randomly in the hypercube in the range $[x_{min} , x_{max}]^d$ with $d+1 = dim(\\theta)$.\n",
    "Then the user can generate either a linear dataset. Also we enable the possibility to generate a polynomial (but only with on variable)."
   ]
  },
  {
   "cell_type": "code",
   "execution_count": 11,
   "metadata": {},
   "outputs": [],
   "source": [
    "class RegressionDataset:\n",
    "    def __init__(self, theta, x_min, x_max):\n",
    "        self.theta = theta\n",
    "        self.n_dimension = theta.shape[0] - 1\n",
    "        self.x_min, self.x_max = x_min, x_max\n",
    "\n",
    "    def linear(self, n, sigma):\n",
    "        X = np.concatenate(\n",
    "            (np.ones((n, 1)),\n",
    "             np.random.uniform(self.x_min, self.x_max, (n, self.n_dimension))),\n",
    "            axis=1)\n",
    "        y = X@self.theta + sigma*np.random.randn(n)\n",
    "        return X, y\n",
    "\n",
    "    def polymomial(self, n, sigma):\n",
    "        x0 = np.random.uniform(self.x_min, self.x_max, (n, 1))\n",
    "        X = np.ones((n, 1))\n",
    "        for i in range(1, self.n_dimension+1):\n",
    "            X = np.concatenate((X, x0**i), axis=1)\n",
    "        y = X@self.theta + sigma*np.random.randn(n)\n",
    "        return X, y"
   ]
  },
  {
   "cell_type": "code",
   "execution_count": 15,
   "metadata": {},
   "outputs": [
    {
     "data": {
      "application/vnd.plotly.v1+json": {
       "config": {
        "plotlyServerURL": "https://plot.ly"
       },
       "data": [
        {
         "hovertemplate": "x=%{x}<br>y=%{y}<extra></extra>",
         "legendgroup": "",
         "marker": {
          "color": "#636efa",
          "symbol": "circle"
         },
         "mode": "markers",
         "name": "",
         "showlegend": false,
         "type": "scatter",
         "x": [
          -0.9296765262728215,
          -2.91591759438427,
          -2.335839956239372,
          -4.160067706305726,
          -6.543716095764005,
          7.100447791469968,
          3.048747253689781,
          7.584891709647945,
          4.677685867046765,
          -4.379048219040116,
          -7.9667426932178635,
          0.5547655800745162,
          9.098086866314183,
          8.188945426715215,
          -1.9508850542659246,
          -6.848689789510269,
          1.0362594238082572,
          -4.0586981138838185,
          -3.421951610187146,
          3.892960016659636,
          4.479937408412528,
          8.138206019354946,
          5.507796723617226,
          9.127944317523259,
          -2.870501784159436,
          7.256621795257715,
          9.285317766572785,
          9.851211976646631,
          -6.887288854157225,
          9.077119840177733,
          -2.5704421888472524,
          3.0319097039312055,
          -6.946904362216683,
          -6.350040367053078,
          5.032481763580288,
          6.125016187772296,
          -5.4396007914518,
          5.370452389200736,
          -4.49697955267885,
          6.889663921009657,
          -6.23447456357969,
          2.8337666250041273,
          8.417691629604938,
          8.383125518587043,
          1.683449669739165,
          0.41698600370216177,
          4.390018461045056,
          -1.8104952801317946,
          3.6139887269755295,
          -9.47025668401422,
          9.945345716461965,
          -6.899469714590873,
          -3.2105586481048265,
          1.6431164742552422,
          5.960838889266851,
          7.366704300439743,
          6.635780517588557,
          -3.171822125091013,
          -8.774090422064187,
          4.8081258186837985,
          8.255775168156958,
          -2.0710374227333013,
          4.612006229610927,
          -2.315331370746758,
          -1.067995055519848,
          -6.505848449955383,
          2.2477298357475934,
          -7.223791953764216,
          0.00020460258948595822,
          0.7477703478553028,
          -5.880725262106841,
          5.262123286501328,
          7.751117471535242,
          8.077062560350509,
          7.250038152682087,
          4.678375397282,
          -6.751396314295994,
          1.103150239962229,
          6.670671529379437,
          6.829888031158905,
          3.511872799234867,
          -4.108109688678683,
          -8.588977787822305,
          -7.15025064557969,
          -5.3981135438589405,
          1.736989866502391,
          -4.1333387151358885,
          -6.127062375608592,
          4.266514580578313,
          -0.7799667194015765,
          -6.968266759238757,
          5.278356605423172,
          -7.878378250716532,
          -4.21783759261892,
          5.1907517052867505,
          -7.330173165498981,
          3.823430666511264,
          -5.235794970466396,
          7.206351233754649,
          -2.5691608532864096
         ],
         "xaxis": "x",
         "y": [
          0.6202321765072136,
          0.4778533455830468,
          0.5608290613880866,
          0.0657581591802554,
          -1.8464471240749625,
          4.742056004479647,
          2.943121237503743,
          4.121137064846667,
          3.9240598718878754,
          -1.319729986909191,
          -3.461825387103058,
          1.793840845313321,
          6.79154957658276,
          5.087683278694833,
          0.727174316051673,
          -3.7627053953392826,
          1.1134964419075621,
          0.29007439738550156,
          -0.499772933331888,
          1.4515225508309737,
          3.399029979986398,
          7.273988244513225,
          2.3549728438512973,
          6.998710849184282,
          -1.021120248795688,
          4.615852468105582,
          6.527760583579966,
          6.9581875015986565,
          -1.3389578632054395,
          5.7314002688607735,
          -1.450119392957056,
          0.8833186257449692,
          -3.5142219705983795,
          -1.3552698184265508,
          4.250655238965486,
          4.750445971882343,
          -1.2626661901764087,
          4.704924047797682,
          -0.587841326142508,
          4.152946943034347,
          -2.5684017679402342,
          1.6593614458224126,
          7.4044060174234545,
          5.202142337574892,
          1.2634614740923662,
          1.100002289474487,
          2.4240644121315644,
          -0.5356114460595588,
          3.534658327934042,
          -3.308550454564663,
          3.64602689638237,
          -1.8159351682928624,
          -1.1740640598611582,
          -0.7137408344900309,
          3.341152750838001,
          4.944879161412867,
          5.007212138559247,
          -0.7700853115349129,
          -2.9095826305896377,
          3.8121280904873895,
          6.581345545839064,
          -0.513398658402075,
          3.908529676153583,
          -0.08651841407531628,
          0.8912318952492329,
          -1.7114800172267595,
          2.2339418695305517,
          -2.961999964363012,
          0.3535980008186974,
          0.7438063162449374,
          -0.4859792231399509,
          2.316420890940014,
          3.704755082600508,
          4.568923350300684,
          4.360183996189897,
          3.3939969788168476,
          -2.6732061587335463,
          1.6933646381662257,
          4.085743429403628,
          4.788719761436071,
          2.3505043358229885,
          -0.6852874649921807,
          -4.782938158676023,
          -2.83638137293845,
          -2.2635052318893876,
          1.9416246189888156,
          -2.123371178164893,
          -3.780767901109289,
          2.1761894891335336,
          1.7789100364466874,
          -3.5154098746864415,
          1.6953655263151728,
          -2.296493204524466,
          -3.460640190187745,
          4.897679564476429,
          -3.877915548666378,
          3.4948273529151717,
          -2.1971781054637294,
          4.10833241473397,
          -1.2629797022317848
         ],
         "yaxis": "y"
        }
       ],
       "layout": {
        "autosize": true,
        "legend": {
         "tracegroupgap": 0
        },
        "margin": {
         "t": 60
        },
        "template": {
         "data": {
          "bar": [
           {
            "error_x": {
             "color": "#2a3f5f"
            },
            "error_y": {
             "color": "#2a3f5f"
            },
            "marker": {
             "line": {
              "color": "#E5ECF6",
              "width": 0.5
             }
            },
            "type": "bar"
           }
          ],
          "barpolar": [
           {
            "marker": {
             "line": {
              "color": "#E5ECF6",
              "width": 0.5
             }
            },
            "type": "barpolar"
           }
          ],
          "carpet": [
           {
            "aaxis": {
             "endlinecolor": "#2a3f5f",
             "gridcolor": "white",
             "linecolor": "white",
             "minorgridcolor": "white",
             "startlinecolor": "#2a3f5f"
            },
            "baxis": {
             "endlinecolor": "#2a3f5f",
             "gridcolor": "white",
             "linecolor": "white",
             "minorgridcolor": "white",
             "startlinecolor": "#2a3f5f"
            },
            "type": "carpet"
           }
          ],
          "choropleth": [
           {
            "colorbar": {
             "outlinewidth": 0,
             "ticks": ""
            },
            "type": "choropleth"
           }
          ],
          "contour": [
           {
            "colorbar": {
             "outlinewidth": 0,
             "ticks": ""
            },
            "colorscale": [
             [
              0,
              "#0d0887"
             ],
             [
              0.1111111111111111,
              "#46039f"
             ],
             [
              0.2222222222222222,
              "#7201a8"
             ],
             [
              0.3333333333333333,
              "#9c179e"
             ],
             [
              0.4444444444444444,
              "#bd3786"
             ],
             [
              0.5555555555555556,
              "#d8576b"
             ],
             [
              0.6666666666666666,
              "#ed7953"
             ],
             [
              0.7777777777777778,
              "#fb9f3a"
             ],
             [
              0.8888888888888888,
              "#fdca26"
             ],
             [
              1,
              "#f0f921"
             ]
            ],
            "type": "contour"
           }
          ],
          "contourcarpet": [
           {
            "colorbar": {
             "outlinewidth": 0,
             "ticks": ""
            },
            "type": "contourcarpet"
           }
          ],
          "heatmap": [
           {
            "colorbar": {
             "outlinewidth": 0,
             "ticks": ""
            },
            "colorscale": [
             [
              0,
              "#0d0887"
             ],
             [
              0.1111111111111111,
              "#46039f"
             ],
             [
              0.2222222222222222,
              "#7201a8"
             ],
             [
              0.3333333333333333,
              "#9c179e"
             ],
             [
              0.4444444444444444,
              "#bd3786"
             ],
             [
              0.5555555555555556,
              "#d8576b"
             ],
             [
              0.6666666666666666,
              "#ed7953"
             ],
             [
              0.7777777777777778,
              "#fb9f3a"
             ],
             [
              0.8888888888888888,
              "#fdca26"
             ],
             [
              1,
              "#f0f921"
             ]
            ],
            "type": "heatmap"
           }
          ],
          "heatmapgl": [
           {
            "colorbar": {
             "outlinewidth": 0,
             "ticks": ""
            },
            "colorscale": [
             [
              0,
              "#0d0887"
             ],
             [
              0.1111111111111111,
              "#46039f"
             ],
             [
              0.2222222222222222,
              "#7201a8"
             ],
             [
              0.3333333333333333,
              "#9c179e"
             ],
             [
              0.4444444444444444,
              "#bd3786"
             ],
             [
              0.5555555555555556,
              "#d8576b"
             ],
             [
              0.6666666666666666,
              "#ed7953"
             ],
             [
              0.7777777777777778,
              "#fb9f3a"
             ],
             [
              0.8888888888888888,
              "#fdca26"
             ],
             [
              1,
              "#f0f921"
             ]
            ],
            "type": "heatmapgl"
           }
          ],
          "histogram": [
           {
            "marker": {
             "colorbar": {
              "outlinewidth": 0,
              "ticks": ""
             }
            },
            "type": "histogram"
           }
          ],
          "histogram2d": [
           {
            "colorbar": {
             "outlinewidth": 0,
             "ticks": ""
            },
            "colorscale": [
             [
              0,
              "#0d0887"
             ],
             [
              0.1111111111111111,
              "#46039f"
             ],
             [
              0.2222222222222222,
              "#7201a8"
             ],
             [
              0.3333333333333333,
              "#9c179e"
             ],
             [
              0.4444444444444444,
              "#bd3786"
             ],
             [
              0.5555555555555556,
              "#d8576b"
             ],
             [
              0.6666666666666666,
              "#ed7953"
             ],
             [
              0.7777777777777778,
              "#fb9f3a"
             ],
             [
              0.8888888888888888,
              "#fdca26"
             ],
             [
              1,
              "#f0f921"
             ]
            ],
            "type": "histogram2d"
           }
          ],
          "histogram2dcontour": [
           {
            "colorbar": {
             "outlinewidth": 0,
             "ticks": ""
            },
            "colorscale": [
             [
              0,
              "#0d0887"
             ],
             [
              0.1111111111111111,
              "#46039f"
             ],
             [
              0.2222222222222222,
              "#7201a8"
             ],
             [
              0.3333333333333333,
              "#9c179e"
             ],
             [
              0.4444444444444444,
              "#bd3786"
             ],
             [
              0.5555555555555556,
              "#d8576b"
             ],
             [
              0.6666666666666666,
              "#ed7953"
             ],
             [
              0.7777777777777778,
              "#fb9f3a"
             ],
             [
              0.8888888888888888,
              "#fdca26"
             ],
             [
              1,
              "#f0f921"
             ]
            ],
            "type": "histogram2dcontour"
           }
          ],
          "mesh3d": [
           {
            "colorbar": {
             "outlinewidth": 0,
             "ticks": ""
            },
            "type": "mesh3d"
           }
          ],
          "parcoords": [
           {
            "line": {
             "colorbar": {
              "outlinewidth": 0,
              "ticks": ""
             }
            },
            "type": "parcoords"
           }
          ],
          "pie": [
           {
            "automargin": true,
            "type": "pie"
           }
          ],
          "scatter": [
           {
            "marker": {
             "colorbar": {
              "outlinewidth": 0,
              "ticks": ""
             }
            },
            "type": "scatter"
           }
          ],
          "scatter3d": [
           {
            "line": {
             "colorbar": {
              "outlinewidth": 0,
              "ticks": ""
             }
            },
            "marker": {
             "colorbar": {
              "outlinewidth": 0,
              "ticks": ""
             }
            },
            "type": "scatter3d"
           }
          ],
          "scattercarpet": [
           {
            "marker": {
             "colorbar": {
              "outlinewidth": 0,
              "ticks": ""
             }
            },
            "type": "scattercarpet"
           }
          ],
          "scattergeo": [
           {
            "marker": {
             "colorbar": {
              "outlinewidth": 0,
              "ticks": ""
             }
            },
            "type": "scattergeo"
           }
          ],
          "scattergl": [
           {
            "marker": {
             "colorbar": {
              "outlinewidth": 0,
              "ticks": ""
             }
            },
            "type": "scattergl"
           }
          ],
          "scattermapbox": [
           {
            "marker": {
             "colorbar": {
              "outlinewidth": 0,
              "ticks": ""
             }
            },
            "type": "scattermapbox"
           }
          ],
          "scatterpolar": [
           {
            "marker": {
             "colorbar": {
              "outlinewidth": 0,
              "ticks": ""
             }
            },
            "type": "scatterpolar"
           }
          ],
          "scatterpolargl": [
           {
            "marker": {
             "colorbar": {
              "outlinewidth": 0,
              "ticks": ""
             }
            },
            "type": "scatterpolargl"
           }
          ],
          "scatterternary": [
           {
            "marker": {
             "colorbar": {
              "outlinewidth": 0,
              "ticks": ""
             }
            },
            "type": "scatterternary"
           }
          ],
          "surface": [
           {
            "colorbar": {
             "outlinewidth": 0,
             "ticks": ""
            },
            "colorscale": [
             [
              0,
              "#0d0887"
             ],
             [
              0.1111111111111111,
              "#46039f"
             ],
             [
              0.2222222222222222,
              "#7201a8"
             ],
             [
              0.3333333333333333,
              "#9c179e"
             ],
             [
              0.4444444444444444,
              "#bd3786"
             ],
             [
              0.5555555555555556,
              "#d8576b"
             ],
             [
              0.6666666666666666,
              "#ed7953"
             ],
             [
              0.7777777777777778,
              "#fb9f3a"
             ],
             [
              0.8888888888888888,
              "#fdca26"
             ],
             [
              1,
              "#f0f921"
             ]
            ],
            "type": "surface"
           }
          ],
          "table": [
           {
            "cells": {
             "fill": {
              "color": "#EBF0F8"
             },
             "line": {
              "color": "white"
             }
            },
            "header": {
             "fill": {
              "color": "#C8D4E3"
             },
             "line": {
              "color": "white"
             }
            },
            "type": "table"
           }
          ]
         },
         "layout": {
          "annotationdefaults": {
           "arrowcolor": "#2a3f5f",
           "arrowhead": 0,
           "arrowwidth": 1
          },
          "coloraxis": {
           "colorbar": {
            "outlinewidth": 0,
            "ticks": ""
           }
          },
          "colorscale": {
           "diverging": [
            [
             0,
             "#8e0152"
            ],
            [
             0.1,
             "#c51b7d"
            ],
            [
             0.2,
             "#de77ae"
            ],
            [
             0.3,
             "#f1b6da"
            ],
            [
             0.4,
             "#fde0ef"
            ],
            [
             0.5,
             "#f7f7f7"
            ],
            [
             0.6,
             "#e6f5d0"
            ],
            [
             0.7,
             "#b8e186"
            ],
            [
             0.8,
             "#7fbc41"
            ],
            [
             0.9,
             "#4d9221"
            ],
            [
             1,
             "#276419"
            ]
           ],
           "sequential": [
            [
             0,
             "#0d0887"
            ],
            [
             0.1111111111111111,
             "#46039f"
            ],
            [
             0.2222222222222222,
             "#7201a8"
            ],
            [
             0.3333333333333333,
             "#9c179e"
            ],
            [
             0.4444444444444444,
             "#bd3786"
            ],
            [
             0.5555555555555556,
             "#d8576b"
            ],
            [
             0.6666666666666666,
             "#ed7953"
            ],
            [
             0.7777777777777778,
             "#fb9f3a"
            ],
            [
             0.8888888888888888,
             "#fdca26"
            ],
            [
             1,
             "#f0f921"
            ]
           ],
           "sequentialminus": [
            [
             0,
             "#0d0887"
            ],
            [
             0.1111111111111111,
             "#46039f"
            ],
            [
             0.2222222222222222,
             "#7201a8"
            ],
            [
             0.3333333333333333,
             "#9c179e"
            ],
            [
             0.4444444444444444,
             "#bd3786"
            ],
            [
             0.5555555555555556,
             "#d8576b"
            ],
            [
             0.6666666666666666,
             "#ed7953"
            ],
            [
             0.7777777777777778,
             "#fb9f3a"
            ],
            [
             0.8888888888888888,
             "#fdca26"
            ],
            [
             1,
             "#f0f921"
            ]
           ]
          },
          "colorway": [
           "#636efa",
           "#EF553B",
           "#00cc96",
           "#ab63fa",
           "#FFA15A",
           "#19d3f3",
           "#FF6692",
           "#B6E880",
           "#FF97FF",
           "#FECB52"
          ],
          "font": {
           "color": "#2a3f5f"
          },
          "geo": {
           "bgcolor": "white",
           "lakecolor": "white",
           "landcolor": "#E5ECF6",
           "showlakes": true,
           "showland": true,
           "subunitcolor": "white"
          },
          "hoverlabel": {
           "align": "left"
          },
          "hovermode": "closest",
          "mapbox": {
           "style": "light"
          },
          "paper_bgcolor": "white",
          "plot_bgcolor": "#E5ECF6",
          "polar": {
           "angularaxis": {
            "gridcolor": "white",
            "linecolor": "white",
            "ticks": ""
           },
           "bgcolor": "#E5ECF6",
           "radialaxis": {
            "gridcolor": "white",
            "linecolor": "white",
            "ticks": ""
           }
          },
          "scene": {
           "xaxis": {
            "backgroundcolor": "#E5ECF6",
            "gridcolor": "white",
            "gridwidth": 2,
            "linecolor": "white",
            "showbackground": true,
            "ticks": "",
            "zerolinecolor": "white"
           },
           "yaxis": {
            "backgroundcolor": "#E5ECF6",
            "gridcolor": "white",
            "gridwidth": 2,
            "linecolor": "white",
            "showbackground": true,
            "ticks": "",
            "zerolinecolor": "white"
           },
           "zaxis": {
            "backgroundcolor": "#E5ECF6",
            "gridcolor": "white",
            "gridwidth": 2,
            "linecolor": "white",
            "showbackground": true,
            "ticks": "",
            "zerolinecolor": "white"
           }
          },
          "shapedefaults": {
           "line": {
            "color": "#2a3f5f"
           }
          },
          "ternary": {
           "aaxis": {
            "gridcolor": "white",
            "linecolor": "white",
            "ticks": ""
           },
           "baxis": {
            "gridcolor": "white",
            "linecolor": "white",
            "ticks": ""
           },
           "bgcolor": "#E5ECF6",
           "caxis": {
            "gridcolor": "white",
            "linecolor": "white",
            "ticks": ""
           }
          },
          "title": {
           "x": 0.05
          },
          "xaxis": {
           "automargin": true,
           "gridcolor": "white",
           "linecolor": "white",
           "ticks": "",
           "title": {
            "standoff": 15
           },
           "zerolinecolor": "white",
           "zerolinewidth": 2
          },
          "yaxis": {
           "automargin": true,
           "gridcolor": "white",
           "linecolor": "white",
           "ticks": "",
           "title": {
            "standoff": 15
           },
           "zerolinecolor": "white",
           "zerolinewidth": 2
          }
         }
        },
        "xaxis": {
         "anchor": "y",
         "autorange": true,
         "domain": [
          0,
          1
         ],
         "range": [
          -10.63494502201343,
          11.110034054461174
         ],
         "title": {
          "text": "x"
         },
         "type": "linear"
        },
        "yaxis": {
         "anchor": "x",
         "autorange": true,
         "domain": [
          0,
          1
         ],
         "range": [
          -5.6470500385652125,
          8.268517897312645
         ],
         "title": {
          "text": "y"
         },
         "type": "linear"
        }
       }
      },
      "image/png": "[encoded data removed]",
      "text/html": [
       "<div>\n",
       "        \n",
       "        \n",
       "            <div id=\"838f167c-12de-43a0-94f4-83bb876bb48d\" class=\"plotly-graph-div\" style=\"height:525px; width:100%;\"></div>\n",
       "            <script type=\"text/javascript\">\n",
       "                require([\"plotly\"], function(Plotly) {\n",
       "                    window.PLOTLYENV=window.PLOTLYENV || {};\n",
       "                    \n",
       "                if (document.getElementById(\"838f167c-12de-43a0-94f4-83bb876bb48d\")) {\n",
       "                    Plotly.newPlot(\n",
       "                        '838f167c-12de-43a0-94f4-83bb876bb48d',\n",
       "                        [{\"hovertemplate\": \"x=%{x}<br>y=%{y}<extra></extra>\", \"legendgroup\": \"\", \"marker\": {\"color\": \"#636efa\", \"symbol\": \"circle\"}, \"mode\": \"markers\", \"name\": \"\", \"showlegend\": false, \"type\": \"scatter\", \"x\": [-0.9296765262728215, -2.91591759438427, -2.335839956239372, -4.160067706305726, -6.543716095764005, 7.100447791469968, 3.048747253689781, 7.584891709647945, 4.677685867046765, -4.379048219040116, -7.9667426932178635, 0.5547655800745162, 9.098086866314183, 8.188945426715215, -1.9508850542659246, -6.848689789510269, 1.0362594238082572, -4.0586981138838185, -3.421951610187146, 3.892960016659636, 4.479937408412528, 8.138206019354946, 5.507796723617226, 9.127944317523259, -2.870501784159436, 7.256621795257715, 9.285317766572785, 9.851211976646631, -6.887288854157225, 9.077119840177733, -2.5704421888472524, 3.0319097039312055, -6.946904362216683, -6.350040367053078, 5.032481763580288, 6.125016187772296, -5.4396007914518, 5.370452389200736, -4.49697955267885, 6.889663921009657, -6.23447456357969, 2.8337666250041273, 8.417691629604938, 8.383125518587043, 1.683449669739165, 0.41698600370216177, 4.390018461045056, -1.8104952801317946, 3.6139887269755295, -9.47025668401422, 9.945345716461965, -6.899469714590873, -3.2105586481048265, 1.6431164742552422, 5.960838889266851, 7.366704300439743, 6.635780517588557, -3.171822125091013, -8.774090422064187, 4.8081258186837985, 8.255775168156958, -2.0710374227333013, 4.612006229610927, -2.315331370746758, -1.067995055519848, -6.505848449955383, 2.2477298357475934, -7.223791953764216, 0.00020460258948595822, 0.7477703478553028, -5.880725262106841, 5.262123286501328, 7.751117471535242, 8.077062560350509, 7.250038152682087, 4.678375397282, -6.751396314295994, 1.103150239962229, 6.670671529379437, 6.829888031158905, 3.511872799234867, -4.108109688678683, -8.588977787822305, -7.15025064557969, -5.3981135438589405, 1.736989866502391, -4.1333387151358885, -6.127062375608592, 4.266514580578313, -0.7799667194015765, -6.968266759238757, 5.278356605423172, -7.878378250716532, -4.21783759261892, 5.1907517052867505, -7.330173165498981, 3.823430666511264, -5.235794970466396, 7.206351233754649, -2.5691608532864096], \"xaxis\": \"x\", \"y\": [0.6202321765072136, 0.4778533455830468, 0.5608290613880866, 0.0657581591802554, -1.8464471240749625, 4.742056004479647, 2.943121237503743, 4.121137064846667, 3.9240598718878754, -1.319729986909191, -3.461825387103058, 1.793840845313321, 6.79154957658276, 5.087683278694833, 0.727174316051673, -3.7627053953392826, 1.1134964419075621, 0.29007439738550156, -0.499772933331888, 1.4515225508309737, 3.399029979986398, 7.273988244513225, 2.3549728438512973, 6.998710849184282, -1.021120248795688, 4.615852468105582, 6.527760583579966, 6.9581875015986565, -1.3389578632054395, 5.7314002688607735, -1.450119392957056, 0.8833186257449692, -3.5142219705983795, -1.3552698184265508, 4.250655238965486, 4.750445971882343, -1.2626661901764087, 4.704924047797682, -0.587841326142508, 4.152946943034347, -2.5684017679402342, 1.6593614458224126, 7.4044060174234545, 5.202142337574892, 1.2634614740923662, 1.100002289474487, 2.4240644121315644, -0.5356114460595588, 3.534658327934042, -3.308550454564663, 3.64602689638237, -1.8159351682928624, -1.1740640598611582, -0.7137408344900309, 3.341152750838001, 4.944879161412867, 5.007212138559247, -0.7700853115349129, -2.9095826305896377, 3.8121280904873895, 6.581345545839064, -0.513398658402075, 3.908529676153583, -0.08651841407531628, 0.8912318952492329, -1.7114800172267595, 2.2339418695305517, -2.961999964363012, 0.3535980008186974, 0.7438063162449374, -0.4859792231399509, 2.316420890940014, 3.704755082600508, 4.568923350300684, 4.360183996189897, 3.3939969788168476, -2.6732061587335463, 1.6933646381662257, 4.085743429403628, 4.788719761436071, 2.3505043358229885, -0.6852874649921807, -4.782938158676023, -2.83638137293845, -2.2635052318893876, 1.9416246189888156, -2.123371178164893, -3.780767901109289, 2.1761894891335336, 1.7789100364466874, -3.5154098746864415, 1.6953655263151728, -2.296493204524466, -3.460640190187745, 4.897679564476429, -3.877915548666378, 3.4948273529151717, -2.1971781054637294, 4.10833241473397, -1.2629797022317848], \"yaxis\": \"y\"}],\n",
       "                        {\"legend\": {\"tracegroupgap\": 0}, \"margin\": {\"t\": 60}, \"template\": {\"data\": {\"bar\": [{\"error_x\": {\"color\": \"#2a3f5f\"}, \"error_y\": {\"color\": \"#2a3f5f\"}, \"marker\": {\"line\": {\"color\": \"#E5ECF6\", \"width\": 0.5}}, \"type\": \"bar\"}], \"barpolar\": [{\"marker\": {\"line\": {\"color\": \"#E5ECF6\", \"width\": 0.5}}, \"type\": \"barpolar\"}], \"carpet\": [{\"aaxis\": {\"endlinecolor\": \"#2a3f5f\", \"gridcolor\": \"white\", \"linecolor\": \"white\", \"minorgridcolor\": \"white\", \"startlinecolor\": \"#2a3f5f\"}, \"baxis\": {\"endlinecolor\": \"#2a3f5f\", \"gridcolor\": \"white\", \"linecolor\": \"white\", \"minorgridcolor\": \"white\", \"startlinecolor\": \"#2a3f5f\"}, \"type\": \"carpet\"}], \"choropleth\": [{\"colorbar\": {\"outlinewidth\": 0, \"ticks\": \"\"}, \"type\": \"choropleth\"}], \"contour\": [{\"colorbar\": {\"outlinewidth\": 0, \"ticks\": \"\"}, \"colorscale\": [[0.0, \"#0d0887\"], [0.1111111111111111, \"#46039f\"], [0.2222222222222222, \"#7201a8\"], [0.3333333333333333, \"#9c179e\"], [0.4444444444444444, \"#bd3786\"], [0.5555555555555556, \"#d8576b\"], [0.6666666666666666, \"#ed7953\"], [0.7777777777777778, \"#fb9f3a\"], [0.8888888888888888, \"#fdca26\"], [1.0, \"#f0f921\"]], \"type\": \"contour\"}], \"contourcarpet\": [{\"colorbar\": {\"outlinewidth\": 0, \"ticks\": \"\"}, \"type\": \"contourcarpet\"}], \"heatmap\": [{\"colorbar\": {\"outlinewidth\": 0, \"ticks\": \"\"}, \"colorscale\": [[0.0, \"#0d0887\"], [0.1111111111111111, \"#46039f\"], [0.2222222222222222, \"#7201a8\"], [0.3333333333333333, \"#9c179e\"], [0.4444444444444444, \"#bd3786\"], [0.5555555555555556, \"#d8576b\"], [0.6666666666666666, \"#ed7953\"], [0.7777777777777778, \"#fb9f3a\"], [0.8888888888888888, \"#fdca26\"], [1.0, \"#f0f921\"]], \"type\": \"heatmap\"}], \"heatmapgl\": [{\"colorbar\": {\"outlinewidth\": 0, \"ticks\": \"\"}, \"colorscale\": [[0.0, \"#0d0887\"], [0.1111111111111111, \"#46039f\"], [0.2222222222222222, \"#7201a8\"], [0.3333333333333333, \"#9c179e\"], [0.4444444444444444, \"#bd3786\"], [0.5555555555555556, \"#d8576b\"], [0.6666666666666666, \"#ed7953\"], [0.7777777777777778, \"#fb9f3a\"], [0.8888888888888888, \"#fdca26\"], [1.0, \"#f0f921\"]], \"type\": \"heatmapgl\"}], \"histogram\": [{\"marker\": {\"colorbar\": {\"outlinewidth\": 0, \"ticks\": \"\"}}, \"type\": \"histogram\"}], \"histogram2d\": [{\"colorbar\": {\"outlinewidth\": 0, \"ticks\": \"\"}, \"colorscale\": [[0.0, \"#0d0887\"], [0.1111111111111111, \"#46039f\"], [0.2222222222222222, \"#7201a8\"], [0.3333333333333333, \"#9c179e\"], [0.4444444444444444, \"#bd3786\"], [0.5555555555555556, \"#d8576b\"], [0.6666666666666666, \"#ed7953\"], [0.7777777777777778, \"#fb9f3a\"], [0.8888888888888888, \"#fdca26\"], [1.0, \"#f0f921\"]], \"type\": \"histogram2d\"}], \"histogram2dcontour\": [{\"colorbar\": {\"outlinewidth\": 0, \"ticks\": \"\"}, \"colorscale\": [[0.0, \"#0d0887\"], [0.1111111111111111, \"#46039f\"], [0.2222222222222222, \"#7201a8\"], [0.3333333333333333, \"#9c179e\"], [0.4444444444444444, \"#bd3786\"], [0.5555555555555556, \"#d8576b\"], [0.6666666666666666, \"#ed7953\"], [0.7777777777777778, \"#fb9f3a\"], [0.8888888888888888, \"#fdca26\"], [1.0, \"#f0f921\"]], \"type\": \"histogram2dcontour\"}], \"mesh3d\": [{\"colorbar\": {\"outlinewidth\": 0, \"ticks\": \"\"}, \"type\": \"mesh3d\"}], \"parcoords\": [{\"line\": {\"colorbar\": {\"outlinewidth\": 0, \"ticks\": \"\"}}, \"type\": \"parcoords\"}], \"pie\": [{\"automargin\": true, \"type\": \"pie\"}], \"scatter\": [{\"marker\": {\"colorbar\": {\"outlinewidth\": 0, \"ticks\": \"\"}}, \"type\": \"scatter\"}], \"scatter3d\": [{\"line\": {\"colorbar\": {\"outlinewidth\": 0, \"ticks\": \"\"}}, \"marker\": {\"colorbar\": {\"outlinewidth\": 0, \"ticks\": \"\"}}, \"type\": \"scatter3d\"}], \"scattercarpet\": [{\"marker\": {\"colorbar\": {\"outlinewidth\": 0, \"ticks\": \"\"}}, \"type\": \"scattercarpet\"}], \"scattergeo\": [{\"marker\": {\"colorbar\": {\"outlinewidth\": 0, \"ticks\": \"\"}}, \"type\": \"scattergeo\"}], \"scattergl\": [{\"marker\": {\"colorbar\": {\"outlinewidth\": 0, \"ticks\": \"\"}}, \"type\": \"scattergl\"}], \"scattermapbox\": [{\"marker\": {\"colorbar\": {\"outlinewidth\": 0, \"ticks\": \"\"}}, \"type\": \"scattermapbox\"}], \"scatterpolar\": [{\"marker\": {\"colorbar\": {\"outlinewidth\": 0, \"ticks\": \"\"}}, \"type\": \"scatterpolar\"}], \"scatterpolargl\": [{\"marker\": {\"colorbar\": {\"outlinewidth\": 0, \"ticks\": \"\"}}, \"type\": \"scatterpolargl\"}], \"scatterternary\": [{\"marker\": {\"colorbar\": {\"outlinewidth\": 0, \"ticks\": \"\"}}, \"type\": \"scatterternary\"}], \"surface\": [{\"colorbar\": {\"outlinewidth\": 0, \"ticks\": \"\"}, \"colorscale\": [[0.0, \"#0d0887\"], [0.1111111111111111, \"#46039f\"], [0.2222222222222222, \"#7201a8\"], [0.3333333333333333, \"#9c179e\"], [0.4444444444444444, \"#bd3786\"], [0.5555555555555556, \"#d8576b\"], [0.6666666666666666, \"#ed7953\"], [0.7777777777777778, \"#fb9f3a\"], [0.8888888888888888, \"#fdca26\"], [1.0, \"#f0f921\"]], \"type\": \"surface\"}], \"table\": [{\"cells\": {\"fill\": {\"color\": \"#EBF0F8\"}, \"line\": {\"color\": \"white\"}}, \"header\": {\"fill\": {\"color\": \"#C8D4E3\"}, \"line\": {\"color\": \"white\"}}, \"type\": \"table\"}]}, \"layout\": {\"annotationdefaults\": {\"arrowcolor\": \"#2a3f5f\", \"arrowhead\": 0, \"arrowwidth\": 1}, \"coloraxis\": {\"colorbar\": {\"outlinewidth\": 0, \"ticks\": \"\"}}, \"colorscale\": {\"diverging\": [[0, \"#8e0152\"], [0.1, \"#c51b7d\"], [0.2, \"#de77ae\"], [0.3, \"#f1b6da\"], [0.4, \"#fde0ef\"], [0.5, \"#f7f7f7\"], [0.6, \"#e6f5d0\"], [0.7, \"#b8e186\"], [0.8, \"#7fbc41\"], [0.9, \"#4d9221\"], [1, \"#276419\"]], \"sequential\": [[0.0, \"#0d0887\"], [0.1111111111111111, \"#46039f\"], [0.2222222222222222, \"#7201a8\"], [0.3333333333333333, \"#9c179e\"], [0.4444444444444444, \"#bd3786\"], [0.5555555555555556, \"#d8576b\"], [0.6666666666666666, \"#ed7953\"], [0.7777777777777778, \"#fb9f3a\"], [0.8888888888888888, \"#fdca26\"], [1.0, \"#f0f921\"]], \"sequentialminus\": [[0.0, \"#0d0887\"], [0.1111111111111111, \"#46039f\"], [0.2222222222222222, \"#7201a8\"], [0.3333333333333333, \"#9c179e\"], [0.4444444444444444, \"#bd3786\"], [0.5555555555555556, \"#d8576b\"], [0.6666666666666666, \"#ed7953\"], [0.7777777777777778, \"#fb9f3a\"], [0.8888888888888888, \"#fdca26\"], [1.0, \"#f0f921\"]]}, \"colorway\": [\"#636efa\", \"#EF553B\", \"#00cc96\", \"#ab63fa\", \"#FFA15A\", \"#19d3f3\", \"#FF6692\", \"#B6E880\", \"#FF97FF\", \"#FECB52\"], \"font\": {\"color\": \"#2a3f5f\"}, \"geo\": {\"bgcolor\": \"white\", \"lakecolor\": \"white\", \"landcolor\": \"#E5ECF6\", \"showlakes\": true, \"showland\": true, \"subunitcolor\": \"white\"}, \"hoverlabel\": {\"align\": \"left\"}, \"hovermode\": \"closest\", \"mapbox\": {\"style\": \"light\"}, \"paper_bgcolor\": \"white\", \"plot_bgcolor\": \"#E5ECF6\", \"polar\": {\"angularaxis\": {\"gridcolor\": \"white\", \"linecolor\": \"white\", \"ticks\": \"\"}, \"bgcolor\": \"#E5ECF6\", \"radialaxis\": {\"gridcolor\": \"white\", \"linecolor\": \"white\", \"ticks\": \"\"}}, \"scene\": {\"xaxis\": {\"backgroundcolor\": \"#E5ECF6\", \"gridcolor\": \"white\", \"gridwidth\": 2, \"linecolor\": \"white\", \"showbackground\": true, \"ticks\": \"\", \"zerolinecolor\": \"white\"}, \"yaxis\": {\"backgroundcolor\": \"#E5ECF6\", \"gridcolor\": \"white\", \"gridwidth\": 2, \"linecolor\": \"white\", \"showbackground\": true, \"ticks\": \"\", \"zerolinecolor\": \"white\"}, \"zaxis\": {\"backgroundcolor\": \"#E5ECF6\", \"gridcolor\": \"white\", \"gridwidth\": 2, \"linecolor\": \"white\", \"showbackground\": true, \"ticks\": \"\", \"zerolinecolor\": \"white\"}}, \"shapedefaults\": {\"line\": {\"color\": \"#2a3f5f\"}}, \"ternary\": {\"aaxis\": {\"gridcolor\": \"white\", \"linecolor\": \"white\", \"ticks\": \"\"}, \"baxis\": {\"gridcolor\": \"white\", \"linecolor\": \"white\", \"ticks\": \"\"}, \"bgcolor\": \"#E5ECF6\", \"caxis\": {\"gridcolor\": \"white\", \"linecolor\": \"white\", \"ticks\": \"\"}}, \"title\": {\"x\": 0.05}, \"xaxis\": {\"automargin\": true, \"gridcolor\": \"white\", \"linecolor\": \"white\", \"ticks\": \"\", \"title\": {\"standoff\": 15}, \"zerolinecolor\": \"white\", \"zerolinewidth\": 2}, \"yaxis\": {\"automargin\": true, \"gridcolor\": \"white\", \"linecolor\": \"white\", \"ticks\": \"\", \"title\": {\"standoff\": 15}, \"zerolinecolor\": \"white\", \"zerolinewidth\": 2}}}, \"xaxis\": {\"anchor\": \"y\", \"domain\": [0.0, 1.0], \"title\": {\"text\": \"x\"}}, \"yaxis\": {\"anchor\": \"x\", \"domain\": [0.0, 1.0], \"title\": {\"text\": \"y\"}}},\n",
       "                        {\"responsive\": true}\n",
       "                    ).then(function(){\n",
       "                            \n",
       "var gd = document.getElementById('838f167c-12de-43a0-94f4-83bb876bb48d');\n",
       "var x = new MutationObserver(function (mutations, observer) {{\n",
       "        var display = window.getComputedStyle(gd).display;\n",
       "        if (!display || display === 'none') {{\n",
       "            console.log([gd, 'removed!']);\n",
       "            Plotly.purge(gd);\n",
       "            observer.disconnect();\n",
       "        }}\n",
       "}});\n",
       "\n",
       "// Listen for the removal of the full notebook cells\n",
       "var notebookContainer = gd.closest('#notebook-container');\n",
       "if (notebookContainer) {{\n",
       "    x.observe(notebookContainer, {childList: true});\n",
       "}}\n",
       "\n",
       "// Listen for the clearing of the current output cell\n",
       "var outputEl = gd.closest('.output');\n",
       "if (outputEl) {{\n",
       "    x.observe(outputEl, {childList: true});\n",
       "}}\n",
       "\n",
       "                        })\n",
       "                };\n",
       "                });\n",
       "            </script>\n",
       "        </div>"
      ]
     },
     "metadata": {},
     "output_type": "display_data"
    }
   ],
   "source": [
    "theta = np.array([1, 0.5])\n",
    "rdata = RegressionDataset(theta, -10, 10)\n",
    "X, y = rdata.linear(100, 1)\n",
    "px.scatter(x=X[:,1], y=y)"
   ]
  },
  {
   "cell_type": "markdown",
   "metadata": {},
   "source": [
    "#### Question:\n",
    "En supposant que X est de rang plein, implemeter la regression linéaire. <br>\n",
    "Il faut une fonction fit pour entrainer le modele (qui met a jour theta), predict pour predire et loss pour calculer la perte de l'estimateur trouvé."
   ]
  },
  {
   "cell_type": "code",
   "execution_count": 6,
   "metadata": {},
   "outputs": [],
   "source": [
    "class LSRegression:\n",
    "    def __init__(self):\n",
    "        self.theta = np.nan\n",
    "\n",
    "    def fit(self, X, y):\n",
    "        self.theta = np.linalg.inv(X.T@X)@X.T@y\n",
    "\n",
    "    def predict(self, X):\n",
    "        return X@self.theta\n",
    "\n",
    "    def loss(self, X, y):\n",
    "        return np.linalg.norm(self.predict(X) - y)**2/X.shape[0]"
   ]
  },
  {
   "cell_type": "code",
   "execution_count": 7,
   "metadata": {},
   "outputs": [
    {
     "name": "stdout",
     "output_type": "stream",
     "text": [
      "CPU times: user 312 ms, sys: 46.9 ms, total: 359 ms\n",
      "Wall time: 359 ms\n"
     ]
    },
    {
     "data": {
      "application/vnd.plotly.v1+json": {
       "config": {
        "plotlyServerURL": "https://plot.ly"
       },
       "data": [
        {
         "mode": "markers",
         "type": "scatter",
         "x": [
          -5.286279416400534,
          -0.4960276116029121,
          -6.4536803209741755,
          4.529152961922895,
          8.721441344808095,
          3.0196724297027817,
          -2.9511706888222307,
          0.7511646692659735,
          1.4058366326847764,
          2.9135686897477306,
          3.3170894098041366,
          4.334025670827499,
          -7.655732827279653,
          -4.582578808449833,
          2.8143504525981395,
          -7.850944873961967,
          -6.676163987797339,
          -3.663169789350727,
          -4.225837578994087,
          4.462312758674363,
          9.044364528769936,
          -1.4664599462380234,
          -6.707652137252675,
          -8.002558951326455,
          3.860892561007258,
          7.089409768160994,
          8.635302693987047,
          -7.666528367593342,
          9.103747978138152,
          -4.005803716757481,
          6.555573376711834,
          3.0675745969993606,
          5.866273716698629,
          -7.5059104750759325,
          6.2027430091726075,
          -2.5462598147343307,
          -3.0922317581723524,
          1.3134971041850605,
          -1.869607019563686,
          -8.195478359073423,
          4.089847561918674,
          -6.697349413694715,
          9.47470952819683,
          7.269687476171022,
          7.010536606336352,
          3.2164490593463135,
          -8.238634778925146,
          -5.048895395269588,
          -7.079712299465115,
          2.5529058454295885,
          6.013962859700463,
          8.257507991292012,
          7.067119239624827,
          -0.7219673157106126,
          -7.656509910737914,
          1.807841015874132,
          -6.825862052656246,
          5.607917774311575,
          5.279913127498379,
          1.761887540340565,
          -5.8102089447170835,
          0.8977205875563303,
          -9.371211571283236,
          -4.59181939423257,
          7.2625065264656925,
          8.085329787509036,
          -7.3854399768872225,
          -2.5855107091854297,
          0.48540252703299913,
          -2.868831231201458,
          -8.225298243944984,
          3.014063161300932,
          -6.067753763276336,
          -1.4785330525226783,
          2.059510228742017,
          8.411320534913425,
          4.086362297162848,
          3.5899280885710816,
          -9.473257524428472,
          0.12110708203734788,
          -3.0007199695635256,
          2.6506516368252893,
          -8.551343634924375,
          -3.3326462513620463,
          -4.957255442659079,
          -8.286027948984273,
          -9.881181284146889,
          2.3777799636845547,
          3.88836717533545,
          4.503847339949905,
          -6.3950672094901995,
          -1.4859907319799248,
          -3.0461907843610003,
          0.39556326012188237,
          0.3761899057398992,
          4.330335117350552,
          -7.299465972483629,
          -6.728073683858236,
          4.457371197813519,
          -0.23323063115430998
         ],
         "y": [
          -1.9650224870340474,
          0.9879218327785653,
          -3.1815768206552875,
          4.024985408853311,
          6.010314500562942,
          2.4786835229697055,
          0.13227339382629144,
          2.419669628412972,
          1.3241645205991222,
          4.803670988589355,
          2.4926920601320295,
          3.8202883130160896,
          -3.883245624843333,
          -0.48869277919813014,
          3.9082098076925043,
          -4.444753431304047,
          -2.7473883554259415,
          -1.0847949163296842,
          0.022686392268885358,
          2.3176235808791628,
          6.5649156036916585,
          -0.6549292821356063,
          -1.2717427578564935,
          -3.2866422952859438,
          2.6348719349516267,
          1.7626182843702916,
          6.545385413668021,
          -3.5802457071570792,
          5.569457727367299,
          -2.190271426895654,
          4.949508878289876,
          3.6542124517141623,
          5.063285573737729,
          -4.189929926525004,
          4.720221973405575,
          0.9839140071309322,
          -1.2536849536912966,
          1.9922929237350737,
          1.1153538054015824,
          -2.571711297521183,
          4.132814035289114,
          -2.7702649719388313,
          5.63106660831296,
          5.619666677981004,
          2.580392206444219,
          2.548081848784553,
          -2.4909341267015153,
          -0.7851233162688148,
          -3.3749416445681657,
          2.545305300396315,
          5.026352994438619,
          6.737423411488058,
          4.558105350201228,
          -0.09105061444276918,
          -1.8851007873699304,
          1.8177354675440656,
          -1.2859048353893838,
          3.2819568984830303,
          3.8719401346339146,
          1.9131864594119201,
          -2.7555116767102668,
          3.0909795296967504,
          -2.077138864530993,
          -1.9097823491841388,
          6.1593471140718155,
          4.479619927563868,
          -2.5096513006313583,
          -2.6977053851933173,
          3.8171154935519924,
          -1.720542079271757,
          -1.8223574074016275,
          2.8791426763309236,
          -1.7583096328161434,
          2.1606066687092,
          3.8344962434807255,
          4.715348740847116,
          2.888361267397886,
          2.8301995601117627,
          -2.9689720733302307,
          2.6620205799274625,
          2.159352090879335,
          2.781965489637564,
          -5.300827677691766,
          1.0897374847879187,
          -2.006355864428969,
          -2.432042479812747,
          -6.390196622385837,
          2.287848377277316,
          1.55902773536955,
          4.424811060957374,
          -2.860882271522743,
          1.5474819270210163,
          -1.147970185696862,
          1.6405080221384196,
          3.0399289053318825,
          4.560474263136539,
          -2.8837597455435704,
          -4.987889099930941,
          2.6780655852330404,
          1.3720599404629266
         ]
        },
        {
         "mode": "lines+markers",
         "type": "scatter",
         "x": [
          -5.286279416400534,
          -0.4960276116029121,
          -6.4536803209741755,
          4.529152961922895,
          8.721441344808095,
          3.0196724297027817,
          -2.9511706888222307,
          0.7511646692659735,
          1.4058366326847764,
          2.9135686897477306,
          3.3170894098041366,
          4.334025670827499,
          -7.655732827279653,
          -4.582578808449833,
          2.8143504525981395,
          -7.850944873961967,
          -6.676163987797339,
          -3.663169789350727,
          -4.225837578994087,
          4.462312758674363,
          9.044364528769936,
          -1.4664599462380234,
          -6.707652137252675,
          -8.002558951326455,
          3.860892561007258,
          7.089409768160994,
          8.635302693987047,
          -7.666528367593342,
          9.103747978138152,
          -4.005803716757481,
          6.555573376711834,
          3.0675745969993606,
          5.866273716698629,
          -7.5059104750759325,
          6.2027430091726075,
          -2.5462598147343307,
          -3.0922317581723524,
          1.3134971041850605,
          -1.869607019563686,
          -8.195478359073423,
          4.089847561918674,
          -6.697349413694715,
          9.47470952819683,
          7.269687476171022,
          7.010536606336352,
          3.2164490593463135,
          -8.238634778925146,
          -5.048895395269588,
          -7.079712299465115,
          2.5529058454295885,
          6.013962859700463,
          8.257507991292012,
          7.067119239624827,
          -0.7219673157106126,
          -7.656509910737914,
          1.807841015874132,
          -6.825862052656246,
          5.607917774311575,
          5.279913127498379,
          1.761887540340565,
          -5.8102089447170835,
          0.8977205875563303,
          -9.371211571283236,
          -4.59181939423257,
          7.2625065264656925,
          8.085329787509036,
          -7.3854399768872225,
          -2.5855107091854297,
          0.48540252703299913,
          -2.868831231201458,
          -8.225298243944984,
          3.014063161300932,
          -6.067753763276336,
          -1.4785330525226783,
          2.059510228742017,
          8.411320534913425,
          4.086362297162848,
          3.5899280885710816,
          -9.473257524428472,
          0.12110708203734788,
          -3.0007199695635256,
          2.6506516368252893,
          -8.551343634924375,
          -3.3326462513620463,
          -4.957255442659079,
          -8.286027948984273,
          -9.881181284146889,
          2.3777799636845547,
          3.88836717533545,
          4.503847339949905,
          -6.3950672094901995,
          -1.4859907319799248,
          -3.0461907843610003,
          0.39556326012188237,
          0.3761899057398992,
          4.330335117350552,
          -7.299465972483629,
          -6.728073683858236,
          4.457371197813519,
          -0.23323063115430998
         ],
         "y": [
          -1.6307634517575518,
          0.9463287193774457,
          -2.2588097120271096,
          3.649809463667914,
          5.905205215484784,
          2.8377288840689276,
          -0.37450581315826104,
          1.6173016857062994,
          1.9695065509909238,
          2.7806464740602417,
          2.9977352892049094,
          3.5448335595300375,
          -2.9054980761315776,
          -1.252181823594206,
          2.7272683735737626,
          -3.0105195776552294,
          -2.3785029848110453,
          -0.7575519206696528,
          -1.060259756234259,
          3.6138503175670045,
          6.078933621250961,
          0.4242489469321512,
          -2.39544319312402,
          -3.0920859478027345,
          3.290294198571744,
          5.027193793410899,
          5.858863759605423,
          -2.9113059341647847,
          6.110881132300078,
          -0.9418844459454276,
          4.739996869087896,
          2.863499617080661,
          4.369162760616412,
          -2.824895630444163,
          4.5501787937597165,
          -0.15666911351456858,
          -0.45039480444469904,
          1.9198291048607263,
          0.20736114879114198,
          -3.1958740398748,
          3.4134689635809803,
          -2.3899004639931642,
          6.310453544232754,
          5.124180818075761,
          4.984761074603221,
          2.9435921105508394,
          -3.2190916234729525,
          -1.5030539852538487,
          -2.5956066438780256,
          2.5866146297257386,
          4.448617567942088,
          5.655615201849747,
          5.015201783612273,
          0.8247761442035583,
          -2.9059161367635045,
          2.1857795969384552,
          -2.4590385655493208,
          4.230170677606277,
          4.053708511974067,
          2.161057234344616,
          -1.912630614627516,
          1.6961468331119764,
          -3.8284029715469674,
          -1.2571531366374042,
          5.12031756202555,
          5.562985603429723,
          -2.760084094352487,
          -0.17778557605598744,
          1.4743251650468392,
          -0.3302082730169533,
          -3.21191674388666,
          2.834711171791313,
          -2.0511863237367316,
          0.41775377528870994,
          2.3211743078277576,
          5.738364317792275,
          3.411593937197696,
          3.144518893008137,
          -3.8833023458728033,
          1.2783390295501278,
          -0.40116267143779294,
          2.6392005738539717,
          -3.3873248557704856,
          -0.5797346248704278,
          -1.4537529017076358,
          -3.2445885226969815,
          -4.102759938172525,
          2.4923992195136426,
          3.305075178022391,
          3.6361953734426407,
          -2.227276632580235,
          0.41374164228875876,
          -0.4256253689336402,
          1.42599282661209,
          1.4155702179599878,
          3.5428480905275377,
          -2.7138312160700298,
          -2.406429715341276,
          3.61119182312316,
          1.0877100221794644
         ]
        }
       ],
       "layout": {
        "autosize": true,
        "template": {
         "data": {
          "bar": [
           {
            "error_x": {
             "color": "#2a3f5f"
            },
            "error_y": {
             "color": "#2a3f5f"
            },
            "marker": {
             "line": {
              "color": "#E5ECF6",
              "width": 0.5
             }
            },
            "type": "bar"
           }
          ],
          "barpolar": [
           {
            "marker": {
             "line": {
              "color": "#E5ECF6",
              "width": 0.5
             }
            },
            "type": "barpolar"
           }
          ],
          "carpet": [
           {
            "aaxis": {
             "endlinecolor": "#2a3f5f",
             "gridcolor": "white",
             "linecolor": "white",
             "minorgridcolor": "white",
             "startlinecolor": "#2a3f5f"
            },
            "baxis": {
             "endlinecolor": "#2a3f5f",
             "gridcolor": "white",
             "linecolor": "white",
             "minorgridcolor": "white",
             "startlinecolor": "#2a3f5f"
            },
            "type": "carpet"
           }
          ],
          "choropleth": [
           {
            "colorbar": {
             "outlinewidth": 0,
             "ticks": ""
            },
            "type": "choropleth"
           }
          ],
          "contour": [
           {
            "colorbar": {
             "outlinewidth": 0,
             "ticks": ""
            },
            "colorscale": [
             [
              0,
              "#0d0887"
             ],
             [
              0.1111111111111111,
              "#46039f"
             ],
             [
              0.2222222222222222,
              "#7201a8"
             ],
             [
              0.3333333333333333,
              "#9c179e"
             ],
             [
              0.4444444444444444,
              "#bd3786"
             ],
             [
              0.5555555555555556,
              "#d8576b"
             ],
             [
              0.6666666666666666,
              "#ed7953"
             ],
             [
              0.7777777777777778,
              "#fb9f3a"
             ],
             [
              0.8888888888888888,
              "#fdca26"
             ],
             [
              1,
              "#f0f921"
             ]
            ],
            "type": "contour"
           }
          ],
          "contourcarpet": [
           {
            "colorbar": {
             "outlinewidth": 0,
             "ticks": ""
            },
            "type": "contourcarpet"
           }
          ],
          "heatmap": [
           {
            "colorbar": {
             "outlinewidth": 0,
             "ticks": ""
            },
            "colorscale": [
             [
              0,
              "#0d0887"
             ],
             [
              0.1111111111111111,
              "#46039f"
             ],
             [
              0.2222222222222222,
              "#7201a8"
             ],
             [
              0.3333333333333333,
              "#9c179e"
             ],
             [
              0.4444444444444444,
              "#bd3786"
             ],
             [
              0.5555555555555556,
              "#d8576b"
             ],
             [
              0.6666666666666666,
              "#ed7953"
             ],
             [
              0.7777777777777778,
              "#fb9f3a"
             ],
             [
              0.8888888888888888,
              "#fdca26"
             ],
             [
              1,
              "#f0f921"
             ]
            ],
            "type": "heatmap"
           }
          ],
          "heatmapgl": [
           {
            "colorbar": {
             "outlinewidth": 0,
             "ticks": ""
            },
            "colorscale": [
             [
              0,
              "#0d0887"
             ],
             [
              0.1111111111111111,
              "#46039f"
             ],
             [
              0.2222222222222222,
              "#7201a8"
             ],
             [
              0.3333333333333333,
              "#9c179e"
             ],
             [
              0.4444444444444444,
              "#bd3786"
             ],
             [
              0.5555555555555556,
              "#d8576b"
             ],
             [
              0.6666666666666666,
              "#ed7953"
             ],
             [
              0.7777777777777778,
              "#fb9f3a"
             ],
             [
              0.8888888888888888,
              "#fdca26"
             ],
             [
              1,
              "#f0f921"
             ]
            ],
            "type": "heatmapgl"
           }
          ],
          "histogram": [
           {
            "marker": {
             "colorbar": {
              "outlinewidth": 0,
              "ticks": ""
             }
            },
            "type": "histogram"
           }
          ],
          "histogram2d": [
           {
            "colorbar": {
             "outlinewidth": 0,
             "ticks": ""
            },
            "colorscale": [
             [
              0,
              "#0d0887"
             ],
             [
              0.1111111111111111,
              "#46039f"
             ],
             [
              0.2222222222222222,
              "#7201a8"
             ],
             [
              0.3333333333333333,
              "#9c179e"
             ],
             [
              0.4444444444444444,
              "#bd3786"
             ],
             [
              0.5555555555555556,
              "#d8576b"
             ],
             [
              0.6666666666666666,
              "#ed7953"
             ],
             [
              0.7777777777777778,
              "#fb9f3a"
             ],
             [
              0.8888888888888888,
              "#fdca26"
             ],
             [
              1,
              "#f0f921"
             ]
            ],
            "type": "histogram2d"
           }
          ],
          "histogram2dcontour": [
           {
            "colorbar": {
             "outlinewidth": 0,
             "ticks": ""
            },
            "colorscale": [
             [
              0,
              "#0d0887"
             ],
             [
              0.1111111111111111,
              "#46039f"
             ],
             [
              0.2222222222222222,
              "#7201a8"
             ],
             [
              0.3333333333333333,
              "#9c179e"
             ],
             [
              0.4444444444444444,
              "#bd3786"
             ],
             [
              0.5555555555555556,
              "#d8576b"
             ],
             [
              0.6666666666666666,
              "#ed7953"
             ],
             [
              0.7777777777777778,
              "#fb9f3a"
             ],
             [
              0.8888888888888888,
              "#fdca26"
             ],
             [
              1,
              "#f0f921"
             ]
            ],
            "type": "histogram2dcontour"
           }
          ],
          "mesh3d": [
           {
            "colorbar": {
             "outlinewidth": 0,
             "ticks": ""
            },
            "type": "mesh3d"
           }
          ],
          "parcoords": [
           {
            "line": {
             "colorbar": {
              "outlinewidth": 0,
              "ticks": ""
             }
            },
            "type": "parcoords"
           }
          ],
          "pie": [
           {
            "automargin": true,
            "type": "pie"
           }
          ],
          "scatter": [
           {
            "marker": {
             "colorbar": {
              "outlinewidth": 0,
              "ticks": ""
             }
            },
            "type": "scatter"
           }
          ],
          "scatter3d": [
           {
            "line": {
             "colorbar": {
              "outlinewidth": 0,
              "ticks": ""
             }
            },
            "marker": {
             "colorbar": {
              "outlinewidth": 0,
              "ticks": ""
             }
            },
            "type": "scatter3d"
           }
          ],
          "scattercarpet": [
           {
            "marker": {
             "colorbar": {
              "outlinewidth": 0,
              "ticks": ""
             }
            },
            "type": "scattercarpet"
           }
          ],
          "scattergeo": [
           {
            "marker": {
             "colorbar": {
              "outlinewidth": 0,
              "ticks": ""
             }
            },
            "type": "scattergeo"
           }
          ],
          "scattergl": [
           {
            "marker": {
             "colorbar": {
              "outlinewidth": 0,
              "ticks": ""
             }
            },
            "type": "scattergl"
           }
          ],
          "scattermapbox": [
           {
            "marker": {
             "colorbar": {
              "outlinewidth": 0,
              "ticks": ""
             }
            },
            "type": "scattermapbox"
           }
          ],
          "scatterpolar": [
           {
            "marker": {
             "colorbar": {
              "outlinewidth": 0,
              "ticks": ""
             }
            },
            "type": "scatterpolar"
           }
          ],
          "scatterpolargl": [
           {
            "marker": {
             "colorbar": {
              "outlinewidth": 0,
              "ticks": ""
             }
            },
            "type": "scatterpolargl"
           }
          ],
          "scatterternary": [
           {
            "marker": {
             "colorbar": {
              "outlinewidth": 0,
              "ticks": ""
             }
            },
            "type": "scatterternary"
           }
          ],
          "surface": [
           {
            "colorbar": {
             "outlinewidth": 0,
             "ticks": ""
            },
            "colorscale": [
             [
              0,
              "#0d0887"
             ],
             [
              0.1111111111111111,
              "#46039f"
             ],
             [
              0.2222222222222222,
              "#7201a8"
             ],
             [
              0.3333333333333333,
              "#9c179e"
             ],
             [
              0.4444444444444444,
              "#bd3786"
             ],
             [
              0.5555555555555556,
              "#d8576b"
             ],
             [
              0.6666666666666666,
              "#ed7953"
             ],
             [
              0.7777777777777778,
              "#fb9f3a"
             ],
             [
              0.8888888888888888,
              "#fdca26"
             ],
             [
              1,
              "#f0f921"
             ]
            ],
            "type": "surface"
           }
          ],
          "table": [
           {
            "cells": {
             "fill": {
              "color": "#EBF0F8"
             },
             "line": {
              "color": "white"
             }
            },
            "header": {
             "fill": {
              "color": "#C8D4E3"
             },
             "line": {
              "color": "white"
             }
            },
            "type": "table"
           }
          ]
         },
         "layout": {
          "annotationdefaults": {
           "arrowcolor": "#2a3f5f",
           "arrowhead": 0,
           "arrowwidth": 1
          },
          "coloraxis": {
           "colorbar": {
            "outlinewidth": 0,
            "ticks": ""
           }
          },
          "colorscale": {
           "diverging": [
            [
             0,
             "#8e0152"
            ],
            [
             0.1,
             "#c51b7d"
            ],
            [
             0.2,
             "#de77ae"
            ],
            [
             0.3,
             "#f1b6da"
            ],
            [
             0.4,
             "#fde0ef"
            ],
            [
             0.5,
             "#f7f7f7"
            ],
            [
             0.6,
             "#e6f5d0"
            ],
            [
             0.7,
             "#b8e186"
            ],
            [
             0.8,
             "#7fbc41"
            ],
            [
             0.9,
             "#4d9221"
            ],
            [
             1,
             "#276419"
            ]
           ],
           "sequential": [
            [
             0,
             "#0d0887"
            ],
            [
             0.1111111111111111,
             "#46039f"
            ],
            [
             0.2222222222222222,
             "#7201a8"
            ],
            [
             0.3333333333333333,
             "#9c179e"
            ],
            [
             0.4444444444444444,
             "#bd3786"
            ],
            [
             0.5555555555555556,
             "#d8576b"
            ],
            [
             0.6666666666666666,
             "#ed7953"
            ],
            [
             0.7777777777777778,
             "#fb9f3a"
            ],
            [
             0.8888888888888888,
             "#fdca26"
            ],
            [
             1,
             "#f0f921"
            ]
           ],
           "sequentialminus": [
            [
             0,
             "#0d0887"
            ],
            [
             0.1111111111111111,
             "#46039f"
            ],
            [
             0.2222222222222222,
             "#7201a8"
            ],
            [
             0.3333333333333333,
             "#9c179e"
            ],
            [
             0.4444444444444444,
             "#bd3786"
            ],
            [
             0.5555555555555556,
             "#d8576b"
            ],
            [
             0.6666666666666666,
             "#ed7953"
            ],
            [
             0.7777777777777778,
             "#fb9f3a"
            ],
            [
             0.8888888888888888,
             "#fdca26"
            ],
            [
             1,
             "#f0f921"
            ]
           ]
          },
          "colorway": [
           "#636efa",
           "#EF553B",
           "#00cc96",
           "#ab63fa",
           "#FFA15A",
           "#19d3f3",
           "#FF6692",
           "#B6E880",
           "#FF97FF",
           "#FECB52"
          ],
          "font": {
           "color": "#2a3f5f"
          },
          "geo": {
           "bgcolor": "white",
           "lakecolor": "white",
           "landcolor": "#E5ECF6",
           "showlakes": true,
           "showland": true,
           "subunitcolor": "white"
          },
          "hoverlabel": {
           "align": "left"
          },
          "hovermode": "closest",
          "mapbox": {
           "style": "light"
          },
          "paper_bgcolor": "white",
          "plot_bgcolor": "#E5ECF6",
          "polar": {
           "angularaxis": {
            "gridcolor": "white",
            "linecolor": "white",
            "ticks": ""
           },
           "bgcolor": "#E5ECF6",
           "radialaxis": {
            "gridcolor": "white",
            "linecolor": "white",
            "ticks": ""
           }
          },
          "scene": {
           "xaxis": {
            "backgroundcolor": "#E5ECF6",
            "gridcolor": "white",
            "gridwidth": 2,
            "linecolor": "white",
            "showbackground": true,
            "ticks": "",
            "zerolinecolor": "white"
           },
           "yaxis": {
            "backgroundcolor": "#E5ECF6",
            "gridcolor": "white",
            "gridwidth": 2,
            "linecolor": "white",
            "showbackground": true,
            "ticks": "",
            "zerolinecolor": "white"
           },
           "zaxis": {
            "backgroundcolor": "#E5ECF6",
            "gridcolor": "white",
            "gridwidth": 2,
            "linecolor": "white",
            "showbackground": true,
            "ticks": "",
            "zerolinecolor": "white"
           }
          },
          "shapedefaults": {
           "line": {
            "color": "#2a3f5f"
           }
          },
          "ternary": {
           "aaxis": {
            "gridcolor": "white",
            "linecolor": "white",
            "ticks": ""
           },
           "baxis": {
            "gridcolor": "white",
            "linecolor": "white",
            "ticks": ""
           },
           "bgcolor": "#E5ECF6",
           "caxis": {
            "gridcolor": "white",
            "linecolor": "white",
            "ticks": ""
           }
          },
          "title": {
           "x": 0.05
          },
          "xaxis": {
           "automargin": true,
           "gridcolor": "white",
           "linecolor": "white",
           "ticks": "",
           "title": {
            "standoff": 15
           },
           "zerolinecolor": "white",
           "zerolinewidth": 2
          },
          "yaxis": {
           "automargin": true,
           "gridcolor": "white",
           "linecolor": "white",
           "ticks": "",
           "title": {
            "standoff": 15
           },
           "zerolinecolor": "white",
           "zerolinewidth": 2
          }
         }
        },
        "xaxis": {
         "autorange": true,
         "range": [
          -11.045702916740893,
          10.639231160790834
         ],
         "type": "linear"
        },
        "yaxis": {
         "autorange": true,
         "range": [
          -7.351773886013542,
          7.699000675115763
         ],
         "type": "linear"
        }
       }
      },
      "image/png": "[encoded data removed]",
      "text/html": [
       "<div>\n",
       "        \n",
       "        \n",
       "            <div id=\"a9f2824e-b7ba-43b8-a997-7d15f2847703\" class=\"plotly-graph-div\" style=\"height:525px; width:100%;\"></div>\n",
       "            <script type=\"text/javascript\">\n",
       "                require([\"plotly\"], function(Plotly) {\n",
       "                    window.PLOTLYENV=window.PLOTLYENV || {};\n",
       "                    \n",
       "                if (document.getElementById(\"a9f2824e-b7ba-43b8-a997-7d15f2847703\")) {\n",
       "                    Plotly.newPlot(\n",
       "                        'a9f2824e-b7ba-43b8-a997-7d15f2847703',\n",
       "                        [{\"mode\": \"markers\", \"type\": \"scatter\", \"x\": [-5.286279416400534, -0.4960276116029121, -6.4536803209741755, 4.529152961922895, 8.721441344808095, 3.0196724297027817, -2.9511706888222307, 0.7511646692659735, 1.4058366326847764, 2.9135686897477306, 3.3170894098041366, 4.334025670827499, -7.655732827279653, -4.582578808449833, 2.8143504525981395, -7.850944873961967, -6.676163987797339, -3.663169789350727, -4.225837578994087, 4.462312758674363, 9.044364528769936, -1.4664599462380234, -6.707652137252675, -8.002558951326455, 3.860892561007258, 7.089409768160994, 8.635302693987047, -7.666528367593342, 9.103747978138152, -4.005803716757481, 6.555573376711834, 3.0675745969993606, 5.866273716698629, -7.5059104750759325, 6.2027430091726075, -2.5462598147343307, -3.0922317581723524, 1.3134971041850605, -1.869607019563686, -8.195478359073423, 4.089847561918674, -6.697349413694715, 9.47470952819683, 7.269687476171022, 7.010536606336352, 3.2164490593463135, -8.238634778925146, -5.048895395269588, -7.079712299465115, 2.5529058454295885, 6.013962859700463, 8.257507991292012, 7.067119239624827, -0.7219673157106126, -7.656509910737914, 1.807841015874132, -6.825862052656246, 5.607917774311575, 5.279913127498379, 1.761887540340565, -5.8102089447170835, 0.8977205875563303, -9.371211571283236, -4.59181939423257, 7.2625065264656925, 8.085329787509036, -7.3854399768872225, -2.5855107091854297, 0.48540252703299913, -2.868831231201458, -8.225298243944984, 3.014063161300932, -6.067753763276336, -1.4785330525226783, 2.059510228742017, 8.411320534913425, 4.086362297162848, 3.5899280885710816, -9.473257524428472, 0.12110708203734788, -3.0007199695635256, 2.6506516368252893, -8.551343634924375, -3.3326462513620463, -4.957255442659079, -8.286027948984273, -9.881181284146889, 2.3777799636845547, 3.88836717533545, 4.503847339949905, -6.3950672094901995, -1.4859907319799248, -3.0461907843610003, 0.39556326012188237, 0.3761899057398992, 4.330335117350552, -7.299465972483629, -6.728073683858236, 4.457371197813519, -0.23323063115430998], \"y\": [-1.9650224870340474, 0.9879218327785653, -3.1815768206552875, 4.024985408853311, 6.010314500562942, 2.4786835229697055, 0.13227339382629144, 2.419669628412972, 1.3241645205991222, 4.803670988589355, 2.4926920601320295, 3.8202883130160896, -3.883245624843333, -0.48869277919813014, 3.9082098076925043, -4.444753431304047, -2.7473883554259415, -1.0847949163296842, 0.022686392268885358, 2.3176235808791628, 6.5649156036916585, -0.6549292821356063, -1.2717427578564935, -3.2866422952859438, 2.6348719349516267, 1.7626182843702916, 6.545385413668021, -3.5802457071570792, 5.569457727367299, -2.190271426895654, 4.949508878289876, 3.6542124517141623, 5.063285573737729, -4.189929926525004, 4.720221973405575, 0.9839140071309322, -1.2536849536912966, 1.9922929237350737, 1.1153538054015824, -2.571711297521183, 4.132814035289114, -2.7702649719388313, 5.63106660831296, 5.619666677981004, 2.580392206444219, 2.548081848784553, -2.4909341267015153, -0.7851233162688148, -3.3749416445681657, 2.545305300396315, 5.026352994438619, 6.737423411488058, 4.558105350201228, -0.09105061444276918, -1.8851007873699304, 1.8177354675440656, -1.2859048353893838, 3.2819568984830303, 3.8719401346339146, 1.9131864594119201, -2.7555116767102668, 3.0909795296967504, -2.077138864530993, -1.9097823491841388, 6.1593471140718155, 4.479619927563868, -2.5096513006313583, -2.6977053851933173, 3.8171154935519924, -1.720542079271757, -1.8223574074016275, 2.8791426763309236, -1.7583096328161434, 2.1606066687092, 3.8344962434807255, 4.715348740847116, 2.888361267397886, 2.8301995601117627, -2.9689720733302307, 2.6620205799274625, 2.159352090879335, 2.781965489637564, -5.300827677691766, 1.0897374847879187, -2.006355864428969, -2.432042479812747, -6.390196622385837, 2.287848377277316, 1.55902773536955, 4.424811060957374, -2.860882271522743, 1.5474819270210163, -1.147970185696862, 1.6405080221384196, 3.0399289053318825, 4.560474263136539, -2.8837597455435704, -4.987889099930941, 2.6780655852330404, 1.3720599404629266]}, {\"mode\": \"lines+markers\", \"type\": \"scatter\", \"x\": [-5.286279416400534, -0.4960276116029121, -6.4536803209741755, 4.529152961922895, 8.721441344808095, 3.0196724297027817, -2.9511706888222307, 0.7511646692659735, 1.4058366326847764, 2.9135686897477306, 3.3170894098041366, 4.334025670827499, -7.655732827279653, -4.582578808449833, 2.8143504525981395, -7.850944873961967, -6.676163987797339, -3.663169789350727, -4.225837578994087, 4.462312758674363, 9.044364528769936, -1.4664599462380234, -6.707652137252675, -8.002558951326455, 3.860892561007258, 7.089409768160994, 8.635302693987047, -7.666528367593342, 9.103747978138152, -4.005803716757481, 6.555573376711834, 3.0675745969993606, 5.866273716698629, -7.5059104750759325, 6.2027430091726075, -2.5462598147343307, -3.0922317581723524, 1.3134971041850605, -1.869607019563686, -8.195478359073423, 4.089847561918674, -6.697349413694715, 9.47470952819683, 7.269687476171022, 7.010536606336352, 3.2164490593463135, -8.238634778925146, -5.048895395269588, -7.079712299465115, 2.5529058454295885, 6.013962859700463, 8.257507991292012, 7.067119239624827, -0.7219673157106126, -7.656509910737914, 1.807841015874132, -6.825862052656246, 5.607917774311575, 5.279913127498379, 1.761887540340565, -5.8102089447170835, 0.8977205875563303, -9.371211571283236, -4.59181939423257, 7.2625065264656925, 8.085329787509036, -7.3854399768872225, -2.5855107091854297, 0.48540252703299913, -2.868831231201458, -8.225298243944984, 3.014063161300932, -6.067753763276336, -1.4785330525226783, 2.059510228742017, 8.411320534913425, 4.086362297162848, 3.5899280885710816, -9.473257524428472, 0.12110708203734788, -3.0007199695635256, 2.6506516368252893, -8.551343634924375, -3.3326462513620463, -4.957255442659079, -8.286027948984273, -9.881181284146889, 2.3777799636845547, 3.88836717533545, 4.503847339949905, -6.3950672094901995, -1.4859907319799248, -3.0461907843610003, 0.39556326012188237, 0.3761899057398992, 4.330335117350552, -7.299465972483629, -6.728073683858236, 4.457371197813519, -0.23323063115430998], \"y\": [-1.6307634517575518, 0.9463287193774457, -2.2588097120271096, 3.649809463667914, 5.905205215484784, 2.8377288840689276, -0.37450581315826104, 1.6173016857062994, 1.9695065509909238, 2.7806464740602417, 2.9977352892049094, 3.5448335595300375, -2.9054980761315776, -1.252181823594206, 2.7272683735737626, -3.0105195776552294, -2.3785029848110453, -0.7575519206696528, -1.060259756234259, 3.6138503175670045, 6.078933621250961, 0.4242489469321512, -2.39544319312402, -3.0920859478027345, 3.290294198571744, 5.027193793410899, 5.858863759605423, -2.9113059341647847, 6.110881132300078, -0.9418844459454276, 4.739996869087896, 2.863499617080661, 4.369162760616412, -2.824895630444163, 4.5501787937597165, -0.15666911351456858, -0.45039480444469904, 1.9198291048607263, 0.20736114879114198, -3.1958740398748, 3.4134689635809803, -2.3899004639931642, 6.310453544232754, 5.124180818075761, 4.984761074603221, 2.9435921105508394, -3.2190916234729525, -1.5030539852538487, -2.5956066438780256, 2.5866146297257386, 4.448617567942088, 5.655615201849747, 5.015201783612273, 0.8247761442035583, -2.9059161367635045, 2.1857795969384552, -2.4590385655493208, 4.230170677606277, 4.053708511974067, 2.161057234344616, -1.912630614627516, 1.6961468331119764, -3.8284029715469674, -1.2571531366374042, 5.12031756202555, 5.562985603429723, -2.760084094352487, -0.17778557605598744, 1.4743251650468392, -0.3302082730169533, -3.21191674388666, 2.834711171791313, -2.0511863237367316, 0.41775377528870994, 2.3211743078277576, 5.738364317792275, 3.411593937197696, 3.144518893008137, -3.8833023458728033, 1.2783390295501278, -0.40116267143779294, 2.6392005738539717, -3.3873248557704856, -0.5797346248704278, -1.4537529017076358, -3.2445885226969815, -4.102759938172525, 2.4923992195136426, 3.305075178022391, 3.6361953734426407, -2.227276632580235, 0.41374164228875876, -0.4256253689336402, 1.42599282661209, 1.4155702179599878, 3.5428480905275377, -2.7138312160700298, -2.406429715341276, 3.61119182312316, 1.0877100221794644]}],\n",
       "                        {\"template\": {\"data\": {\"bar\": [{\"error_x\": {\"color\": \"#2a3f5f\"}, \"error_y\": {\"color\": \"#2a3f5f\"}, \"marker\": {\"line\": {\"color\": \"#E5ECF6\", \"width\": 0.5}}, \"type\": \"bar\"}], \"barpolar\": [{\"marker\": {\"line\": {\"color\": \"#E5ECF6\", \"width\": 0.5}}, \"type\": \"barpolar\"}], \"carpet\": [{\"aaxis\": {\"endlinecolor\": \"#2a3f5f\", \"gridcolor\": \"white\", \"linecolor\": \"white\", \"minorgridcolor\": \"white\", \"startlinecolor\": \"#2a3f5f\"}, \"baxis\": {\"endlinecolor\": \"#2a3f5f\", \"gridcolor\": \"white\", \"linecolor\": \"white\", \"minorgridcolor\": \"white\", \"startlinecolor\": \"#2a3f5f\"}, \"type\": \"carpet\"}], \"choropleth\": [{\"colorbar\": {\"outlinewidth\": 0, \"ticks\": \"\"}, \"type\": \"choropleth\"}], \"contour\": [{\"colorbar\": {\"outlinewidth\": 0, \"ticks\": \"\"}, \"colorscale\": [[0.0, \"#0d0887\"], [0.1111111111111111, \"#46039f\"], [0.2222222222222222, \"#7201a8\"], [0.3333333333333333, \"#9c179e\"], [0.4444444444444444, \"#bd3786\"], [0.5555555555555556, \"#d8576b\"], [0.6666666666666666, \"#ed7953\"], [0.7777777777777778, \"#fb9f3a\"], [0.8888888888888888, \"#fdca26\"], [1.0, \"#f0f921\"]], \"type\": \"contour\"}], \"contourcarpet\": [{\"colorbar\": {\"outlinewidth\": 0, \"ticks\": \"\"}, \"type\": \"contourcarpet\"}], \"heatmap\": [{\"colorbar\": {\"outlinewidth\": 0, \"ticks\": \"\"}, \"colorscale\": [[0.0, \"#0d0887\"], [0.1111111111111111, \"#46039f\"], [0.2222222222222222, \"#7201a8\"], [0.3333333333333333, \"#9c179e\"], [0.4444444444444444, \"#bd3786\"], [0.5555555555555556, \"#d8576b\"], [0.6666666666666666, \"#ed7953\"], [0.7777777777777778, \"#fb9f3a\"], [0.8888888888888888, \"#fdca26\"], [1.0, \"#f0f921\"]], \"type\": \"heatmap\"}], \"heatmapgl\": [{\"colorbar\": {\"outlinewidth\": 0, \"ticks\": \"\"}, \"colorscale\": [[0.0, \"#0d0887\"], [0.1111111111111111, \"#46039f\"], [0.2222222222222222, \"#7201a8\"], [0.3333333333333333, \"#9c179e\"], [0.4444444444444444, \"#bd3786\"], [0.5555555555555556, \"#d8576b\"], [0.6666666666666666, \"#ed7953\"], [0.7777777777777778, \"#fb9f3a\"], [0.8888888888888888, \"#fdca26\"], [1.0, \"#f0f921\"]], \"type\": \"heatmapgl\"}], \"histogram\": [{\"marker\": {\"colorbar\": {\"outlinewidth\": 0, \"ticks\": \"\"}}, \"type\": \"histogram\"}], \"histogram2d\": [{\"colorbar\": {\"outlinewidth\": 0, \"ticks\": \"\"}, \"colorscale\": [[0.0, \"#0d0887\"], [0.1111111111111111, \"#46039f\"], [0.2222222222222222, \"#7201a8\"], [0.3333333333333333, \"#9c179e\"], [0.4444444444444444, \"#bd3786\"], [0.5555555555555556, \"#d8576b\"], [0.6666666666666666, \"#ed7953\"], [0.7777777777777778, \"#fb9f3a\"], [0.8888888888888888, \"#fdca26\"], [1.0, \"#f0f921\"]], \"type\": \"histogram2d\"}], \"histogram2dcontour\": [{\"colorbar\": {\"outlinewidth\": 0, \"ticks\": \"\"}, \"colorscale\": [[0.0, \"#0d0887\"], [0.1111111111111111, \"#46039f\"], [0.2222222222222222, \"#7201a8\"], [0.3333333333333333, \"#9c179e\"], [0.4444444444444444, \"#bd3786\"], [0.5555555555555556, \"#d8576b\"], [0.6666666666666666, \"#ed7953\"], [0.7777777777777778, \"#fb9f3a\"], [0.8888888888888888, \"#fdca26\"], [1.0, \"#f0f921\"]], \"type\": \"histogram2dcontour\"}], \"mesh3d\": [{\"colorbar\": {\"outlinewidth\": 0, \"ticks\": \"\"}, \"type\": \"mesh3d\"}], \"parcoords\": [{\"line\": {\"colorbar\": {\"outlinewidth\": 0, \"ticks\": \"\"}}, \"type\": \"parcoords\"}], \"pie\": [{\"automargin\": true, \"type\": \"pie\"}], \"scatter\": [{\"marker\": {\"colorbar\": {\"outlinewidth\": 0, \"ticks\": \"\"}}, \"type\": \"scatter\"}], \"scatter3d\": [{\"line\": {\"colorbar\": {\"outlinewidth\": 0, \"ticks\": \"\"}}, \"marker\": {\"colorbar\": {\"outlinewidth\": 0, \"ticks\": \"\"}}, \"type\": \"scatter3d\"}], \"scattercarpet\": [{\"marker\": {\"colorbar\": {\"outlinewidth\": 0, \"ticks\": \"\"}}, \"type\": \"scattercarpet\"}], \"scattergeo\": [{\"marker\": {\"colorbar\": {\"outlinewidth\": 0, \"ticks\": \"\"}}, \"type\": \"scattergeo\"}], \"scattergl\": [{\"marker\": {\"colorbar\": {\"outlinewidth\": 0, \"ticks\": \"\"}}, \"type\": \"scattergl\"}], \"scattermapbox\": [{\"marker\": {\"colorbar\": {\"outlinewidth\": 0, \"ticks\": \"\"}}, \"type\": \"scattermapbox\"}], \"scatterpolar\": [{\"marker\": {\"colorbar\": {\"outlinewidth\": 0, \"ticks\": \"\"}}, \"type\": \"scatterpolar\"}], \"scatterpolargl\": [{\"marker\": {\"colorbar\": {\"outlinewidth\": 0, \"ticks\": \"\"}}, \"type\": \"scatterpolargl\"}], \"scatterternary\": [{\"marker\": {\"colorbar\": {\"outlinewidth\": 0, \"ticks\": \"\"}}, \"type\": \"scatterternary\"}], \"surface\": [{\"colorbar\": {\"outlinewidth\": 0, \"ticks\": \"\"}, \"colorscale\": [[0.0, \"#0d0887\"], [0.1111111111111111, \"#46039f\"], [0.2222222222222222, \"#7201a8\"], [0.3333333333333333, \"#9c179e\"], [0.4444444444444444, \"#bd3786\"], [0.5555555555555556, \"#d8576b\"], [0.6666666666666666, \"#ed7953\"], [0.7777777777777778, \"#fb9f3a\"], [0.8888888888888888, \"#fdca26\"], [1.0, \"#f0f921\"]], \"type\": \"surface\"}], \"table\": [{\"cells\": {\"fill\": {\"color\": \"#EBF0F8\"}, \"line\": {\"color\": \"white\"}}, \"header\": {\"fill\": {\"color\": \"#C8D4E3\"}, \"line\": {\"color\": \"white\"}}, \"type\": \"table\"}]}, \"layout\": {\"annotationdefaults\": {\"arrowcolor\": \"#2a3f5f\", \"arrowhead\": 0, \"arrowwidth\": 1}, \"coloraxis\": {\"colorbar\": {\"outlinewidth\": 0, \"ticks\": \"\"}}, \"colorscale\": {\"diverging\": [[0, \"#8e0152\"], [0.1, \"#c51b7d\"], [0.2, \"#de77ae\"], [0.3, \"#f1b6da\"], [0.4, \"#fde0ef\"], [0.5, \"#f7f7f7\"], [0.6, \"#e6f5d0\"], [0.7, \"#b8e186\"], [0.8, \"#7fbc41\"], [0.9, \"#4d9221\"], [1, \"#276419\"]], \"sequential\": [[0.0, \"#0d0887\"], [0.1111111111111111, \"#46039f\"], [0.2222222222222222, \"#7201a8\"], [0.3333333333333333, \"#9c179e\"], [0.4444444444444444, \"#bd3786\"], [0.5555555555555556, \"#d8576b\"], [0.6666666666666666, \"#ed7953\"], [0.7777777777777778, \"#fb9f3a\"], [0.8888888888888888, \"#fdca26\"], [1.0, \"#f0f921\"]], \"sequentialminus\": [[0.0, \"#0d0887\"], [0.1111111111111111, \"#46039f\"], [0.2222222222222222, \"#7201a8\"], [0.3333333333333333, \"#9c179e\"], [0.4444444444444444, \"#bd3786\"], [0.5555555555555556, \"#d8576b\"], [0.6666666666666666, \"#ed7953\"], [0.7777777777777778, \"#fb9f3a\"], [0.8888888888888888, \"#fdca26\"], [1.0, \"#f0f921\"]]}, \"colorway\": [\"#636efa\", \"#EF553B\", \"#00cc96\", \"#ab63fa\", \"#FFA15A\", \"#19d3f3\", \"#FF6692\", \"#B6E880\", \"#FF97FF\", \"#FECB52\"], \"font\": {\"color\": \"#2a3f5f\"}, \"geo\": {\"bgcolor\": \"white\", \"lakecolor\": \"white\", \"landcolor\": \"#E5ECF6\", \"showlakes\": true, \"showland\": true, \"subunitcolor\": \"white\"}, \"hoverlabel\": {\"align\": \"left\"}, \"hovermode\": \"closest\", \"mapbox\": {\"style\": \"light\"}, \"paper_bgcolor\": \"white\", \"plot_bgcolor\": \"#E5ECF6\", \"polar\": {\"angularaxis\": {\"gridcolor\": \"white\", \"linecolor\": \"white\", \"ticks\": \"\"}, \"bgcolor\": \"#E5ECF6\", \"radialaxis\": {\"gridcolor\": \"white\", \"linecolor\": \"white\", \"ticks\": \"\"}}, \"scene\": {\"xaxis\": {\"backgroundcolor\": \"#E5ECF6\", \"gridcolor\": \"white\", \"gridwidth\": 2, \"linecolor\": \"white\", \"showbackground\": true, \"ticks\": \"\", \"zerolinecolor\": \"white\"}, \"yaxis\": {\"backgroundcolor\": \"#E5ECF6\", \"gridcolor\": \"white\", \"gridwidth\": 2, \"linecolor\": \"white\", \"showbackground\": true, \"ticks\": \"\", \"zerolinecolor\": \"white\"}, \"zaxis\": {\"backgroundcolor\": \"#E5ECF6\", \"gridcolor\": \"white\", \"gridwidth\": 2, \"linecolor\": \"white\", \"showbackground\": true, \"ticks\": \"\", \"zerolinecolor\": \"white\"}}, \"shapedefaults\": {\"line\": {\"color\": \"#2a3f5f\"}}, \"ternary\": {\"aaxis\": {\"gridcolor\": \"white\", \"linecolor\": \"white\", \"ticks\": \"\"}, \"baxis\": {\"gridcolor\": \"white\", \"linecolor\": \"white\", \"ticks\": \"\"}, \"bgcolor\": \"#E5ECF6\", \"caxis\": {\"gridcolor\": \"white\", \"linecolor\": \"white\", \"ticks\": \"\"}}, \"title\": {\"x\": 0.05}, \"xaxis\": {\"automargin\": true, \"gridcolor\": \"white\", \"linecolor\": \"white\", \"ticks\": \"\", \"title\": {\"standoff\": 15}, \"zerolinecolor\": \"white\", \"zerolinewidth\": 2}, \"yaxis\": {\"automargin\": true, \"gridcolor\": \"white\", \"linecolor\": \"white\", \"ticks\": \"\", \"title\": {\"standoff\": 15}, \"zerolinecolor\": \"white\", \"zerolinewidth\": 2}}}},\n",
       "                        {\"responsive\": true}\n",
       "                    ).then(function(){\n",
       "                            \n",
       "var gd = document.getElementById('a9f2824e-b7ba-43b8-a997-7d15f2847703');\n",
       "var x = new MutationObserver(function (mutations, observer) {{\n",
       "        var display = window.getComputedStyle(gd).display;\n",
       "        if (!display || display === 'none') {{\n",
       "            console.log([gd, 'removed!']);\n",
       "            Plotly.purge(gd);\n",
       "            observer.disconnect();\n",
       "        }}\n",
       "}});\n",
       "\n",
       "// Listen for the removal of the full notebook cells\n",
       "var notebookContainer = gd.closest('#notebook-container');\n",
       "if (notebookContainer) {{\n",
       "    x.observe(notebookContainer, {childList: true});\n",
       "}}\n",
       "\n",
       "// Listen for the clearing of the current output cell\n",
       "var outputEl = gd.closest('.output');\n",
       "if (outputEl) {{\n",
       "    x.observe(outputEl, {childList: true});\n",
       "}}\n",
       "\n",
       "                        })\n",
       "                };\n",
       "                });\n",
       "            </script>\n",
       "        </div>"
      ]
     },
     "metadata": {},
     "output_type": "display_data"
    }
   ],
   "source": [
    "%%time\n",
    "ls = LSRegression()\n",
    "ls.fit(X, y)\n",
    "y_hat = ls.predict(X)\n",
    "plot_regression(X[:, 1], y, y_hat)"
   ]
  },
  {
   "cell_type": "markdown",
   "metadata": {},
   "source": [
    "#### Question:\n",
    "    Implemeter la regression linéaire par descente de gradient.\n",
    "    Il faut une fonction fit pour entrainer le modele (qui met a jour theta), predict pour predire et loss pour calculer la perte de l'estimateur trouvé."
   ]
  },
  {
   "cell_type": "code",
   "execution_count": 8,
   "metadata": {},
   "outputs": [],
   "source": [
    "class LSRegression_GD:\n",
    "    def __init__(self, d):\n",
    "        self.theta = np.random.randn(d)\n",
    "\n",
    "    def fit(self, X, y, epochs, lr):\n",
    "        n = X.shape[0]\n",
    "        for epoch in range(epochs):\n",
    "            self.theta = self.theta + (lr/n)*((X.T)@(y-X@self.theta))\n",
    "\n",
    "    def predict(self, X):\n",
    "        return X@self.theta\n",
    "\n",
    "    def loss(self, X, y):\n",
    "        return np.linalg.norm(self.predict(X) - y)**2/X.shape[0]"
   ]
  },
  {
   "cell_type": "code",
   "execution_count": 33,
   "metadata": {},
   "outputs": [
    {
     "name": "stdout",
     "output_type": "stream",
     "text": [
      "CPU times: user 156 ms, sys: 0 ns, total: 156 ms\n",
      "Wall time: 157 ms\n"
     ]
    },
    {
     "data": {
      "application/vnd.plotly.v1+json": {
       "config": {
        "plotlyServerURL": "https://plot.ly"
       },
       "data": [
        {
         "mode": "markers",
         "type": "scatter",
         "x": [
          -5.286279416400534,
          -0.4960276116029121,
          -6.4536803209741755,
          4.529152961922895,
          8.721441344808095,
          3.0196724297027817,
          -2.9511706888222307,
          0.7511646692659735,
          1.4058366326847764,
          2.9135686897477306,
          3.3170894098041366,
          4.334025670827499,
          -7.655732827279653,
          -4.582578808449833,
          2.8143504525981395,
          -7.850944873961967,
          -6.676163987797339,
          -3.663169789350727,
          -4.225837578994087,
          4.462312758674363,
          9.044364528769936,
          -1.4664599462380234,
          -6.707652137252675,
          -8.002558951326455,
          3.860892561007258,
          7.089409768160994,
          8.635302693987047,
          -7.666528367593342,
          9.103747978138152,
          -4.005803716757481,
          6.555573376711834,
          3.0675745969993606,
          5.866273716698629,
          -7.5059104750759325,
          6.2027430091726075,
          -2.5462598147343307,
          -3.0922317581723524,
          1.3134971041850605,
          -1.869607019563686,
          -8.195478359073423,
          4.089847561918674,
          -6.697349413694715,
          9.47470952819683,
          7.269687476171022,
          7.010536606336352,
          3.2164490593463135,
          -8.238634778925146,
          -5.048895395269588,
          -7.079712299465115,
          2.5529058454295885,
          6.013962859700463,
          8.257507991292012,
          7.067119239624827,
          -0.7219673157106126,
          -7.656509910737914,
          1.807841015874132,
          -6.825862052656246,
          5.607917774311575,
          5.279913127498379,
          1.761887540340565,
          -5.8102089447170835,
          0.8977205875563303,
          -9.371211571283236,
          -4.59181939423257,
          7.2625065264656925,
          8.085329787509036,
          -7.3854399768872225,
          -2.5855107091854297,
          0.48540252703299913,
          -2.868831231201458,
          -8.225298243944984,
          3.014063161300932,
          -6.067753763276336,
          -1.4785330525226783,
          2.059510228742017,
          8.411320534913425,
          4.086362297162848,
          3.5899280885710816,
          -9.473257524428472,
          0.12110708203734788,
          -3.0007199695635256,
          2.6506516368252893,
          -8.551343634924375,
          -3.3326462513620463,
          -4.957255442659079,
          -8.286027948984273,
          -9.881181284146889,
          2.3777799636845547,
          3.88836717533545,
          4.503847339949905,
          -6.3950672094901995,
          -1.4859907319799248,
          -3.0461907843610003,
          0.39556326012188237,
          0.3761899057398992,
          4.330335117350552,
          -7.299465972483629,
          -6.728073683858236,
          4.457371197813519,
          -0.23323063115430998
         ],
         "y": [
          -1.9650224870340474,
          0.9879218327785653,
          -3.1815768206552875,
          4.024985408853311,
          6.010314500562942,
          2.4786835229697055,
          0.13227339382629144,
          2.419669628412972,
          1.3241645205991222,
          4.803670988589355,
          2.4926920601320295,
          3.8202883130160896,
          -3.883245624843333,
          -0.48869277919813014,
          3.9082098076925043,
          -4.444753431304047,
          -2.7473883554259415,
          -1.0847949163296842,
          0.022686392268885358,
          2.3176235808791628,
          6.5649156036916585,
          -0.6549292821356063,
          -1.2717427578564935,
          -3.2866422952859438,
          2.6348719349516267,
          1.7626182843702916,
          6.545385413668021,
          -3.5802457071570792,
          5.569457727367299,
          -2.190271426895654,
          4.949508878289876,
          3.6542124517141623,
          5.063285573737729,
          -4.189929926525004,
          4.720221973405575,
          0.9839140071309322,
          -1.2536849536912966,
          1.9922929237350737,
          1.1153538054015824,
          -2.571711297521183,
          4.132814035289114,
          -2.7702649719388313,
          5.63106660831296,
          5.619666677981004,
          2.580392206444219,
          2.548081848784553,
          -2.4909341267015153,
          -0.7851233162688148,
          -3.3749416445681657,
          2.545305300396315,
          5.026352994438619,
          6.737423411488058,
          4.558105350201228,
          -0.09105061444276918,
          -1.8851007873699304,
          1.8177354675440656,
          -1.2859048353893838,
          3.2819568984830303,
          3.8719401346339146,
          1.9131864594119201,
          -2.7555116767102668,
          3.0909795296967504,
          -2.077138864530993,
          -1.9097823491841388,
          6.1593471140718155,
          4.479619927563868,
          -2.5096513006313583,
          -2.6977053851933173,
          3.8171154935519924,
          -1.720542079271757,
          -1.8223574074016275,
          2.8791426763309236,
          -1.7583096328161434,
          2.1606066687092,
          3.8344962434807255,
          4.715348740847116,
          2.888361267397886,
          2.8301995601117627,
          -2.9689720733302307,
          2.6620205799274625,
          2.159352090879335,
          2.781965489637564,
          -5.300827677691766,
          1.0897374847879187,
          -2.006355864428969,
          -2.432042479812747,
          -6.390196622385837,
          2.287848377277316,
          1.55902773536955,
          4.424811060957374,
          -2.860882271522743,
          1.5474819270210163,
          -1.147970185696862,
          1.6405080221384196,
          3.0399289053318825,
          4.560474263136539,
          -2.8837597455435704,
          -4.987889099930941,
          2.6780655852330404,
          1.3720599404629266
         ]
        },
        {
         "mode": "lines+markers",
         "type": "scatter",
         "x": [
          -5.286279416400534,
          -0.4960276116029121,
          -6.4536803209741755,
          4.529152961922895,
          8.721441344808095,
          3.0196724297027817,
          -2.9511706888222307,
          0.7511646692659735,
          1.4058366326847764,
          2.9135686897477306,
          3.3170894098041366,
          4.334025670827499,
          -7.655732827279653,
          -4.582578808449833,
          2.8143504525981395,
          -7.850944873961967,
          -6.676163987797339,
          -3.663169789350727,
          -4.225837578994087,
          4.462312758674363,
          9.044364528769936,
          -1.4664599462380234,
          -6.707652137252675,
          -8.002558951326455,
          3.860892561007258,
          7.089409768160994,
          8.635302693987047,
          -7.666528367593342,
          9.103747978138152,
          -4.005803716757481,
          6.555573376711834,
          3.0675745969993606,
          5.866273716698629,
          -7.5059104750759325,
          6.2027430091726075,
          -2.5462598147343307,
          -3.0922317581723524,
          1.3134971041850605,
          -1.869607019563686,
          -8.195478359073423,
          4.089847561918674,
          -6.697349413694715,
          9.47470952819683,
          7.269687476171022,
          7.010536606336352,
          3.2164490593463135,
          -8.238634778925146,
          -5.048895395269588,
          -7.079712299465115,
          2.5529058454295885,
          6.013962859700463,
          8.257507991292012,
          7.067119239624827,
          -0.7219673157106126,
          -7.656509910737914,
          1.807841015874132,
          -6.825862052656246,
          5.607917774311575,
          5.279913127498379,
          1.761887540340565,
          -5.8102089447170835,
          0.8977205875563303,
          -9.371211571283236,
          -4.59181939423257,
          7.2625065264656925,
          8.085329787509036,
          -7.3854399768872225,
          -2.5855107091854297,
          0.48540252703299913,
          -2.868831231201458,
          -8.225298243944984,
          3.014063161300932,
          -6.067753763276336,
          -1.4785330525226783,
          2.059510228742017,
          8.411320534913425,
          4.086362297162848,
          3.5899280885710816,
          -9.473257524428472,
          0.12110708203734788,
          -3.0007199695635256,
          2.6506516368252893,
          -8.551343634924375,
          -3.3326462513620463,
          -4.957255442659079,
          -8.286027948984273,
          -9.881181284146889,
          2.3777799636845547,
          3.88836717533545,
          4.503847339949905,
          -6.3950672094901995,
          -1.4859907319799248,
          -3.0461907843610003,
          0.39556326012188237,
          0.3761899057398992,
          4.330335117350552,
          -7.299465972483629,
          -6.728073683858236,
          4.457371197813519,
          -0.23323063115430998
         ],
         "y": [
          -2.231252985295646,
          0.3085430106544715,
          -2.850210038896703,
          2.9728984599409976,
          5.195653689228962,
          2.1725704671917176,
          -0.993176149653786,
          0.9698055267414551,
          1.3169132152530665,
          2.1163141648354875,
          2.330261228757207,
          2.8694417873443014,
          -3.487539404208729,
          -1.858150263507441,
          2.0637085625192633,
          -3.591041014297035,
          -2.9681710875405,
          -1.3706787399834313,
          -1.6690057293402427,
          2.937459721541256,
          5.366867863983685,
          -0.20598112258175805,
          -2.9848661338899314,
          -3.6714269401964494,
          2.618586169134552,
          4.330349017879314,
          5.149982895841288,
          -3.493263209799776,
          5.398353024488201,
          -1.5523435693840022,
          4.047308462863581,
          2.1979682411824992,
          3.68184113716727,
          -3.4081034526686165,
          3.8602374713494734,
          -0.7784920247618258,
          -1.0679668608145363,
          1.2679547107091893,
          -0.419730078656685,
          -3.7737129909727547,
          2.739978325176365,
          -2.9794036202046,
          5.595037185965237,
          4.425932427608289,
          4.2885303935661785,
          2.276901620632265,
          -3.7965945652209334,
          -2.1053917548344243,
          -3.1821327805604245,
          1.9250903867932188,
          3.760146059189466,
          4.949675790432964,
          4.318530558760512,
          0.1887495678036868,
          -3.48795141458652,
          1.5300563159468843,
          -3.04754114181392,
          3.5448605744028288,
          3.3709522032823704,
          1.505691740155012,
          -2.509040912194538,
          1.0475096119596572,
          -4.397087841890892,
          -1.8630496307489968,
          4.422125081345103,
          4.858386745435388,
          -3.3442298816335074,
          -0.7993028857826431,
          0.8288981898782002,
          -0.9495196920612029,
          -3.7895235218765015,
          2.1695964278284925,
          -2.6455914163453573,
          -0.21238229484784565,
          1.6634915684539866,
          5.031227345202029,
          2.738130434536711,
          2.4749205519223456,
          -4.45119270187792,
          0.6357484035525289,
          -1.019447224736501,
          1.9769152969908705,
          -3.9623930937178167,
          -1.195434850401225,
          -2.0568041660825926,
          -3.8217224683994258,
          -4.667474261554619,
          1.8322384801778293,
          2.6331532353984026,
          2.9594813954564843,
          -2.8191333122603104,
          -0.2163363634848271,
          -1.0435558933537856,
          0.7812653263716463,
          0.7709935557231381,
          2.8674850524323285,
          -3.2986463839306617,
          -2.995693657037663,
          2.934839701341995,
          0.44787821596093647
         ]
        }
       ],
       "layout": {
        "autosize": true,
        "template": {
         "data": {
          "bar": [
           {
            "error_x": {
             "color": "#2a3f5f"
            },
            "error_y": {
             "color": "#2a3f5f"
            },
            "marker": {
             "line": {
              "color": "#E5ECF6",
              "width": 0.5
             }
            },
            "type": "bar"
           }
          ],
          "barpolar": [
           {
            "marker": {
             "line": {
              "color": "#E5ECF6",
              "width": 0.5
             }
            },
            "type": "barpolar"
           }
          ],
          "carpet": [
           {
            "aaxis": {
             "endlinecolor": "#2a3f5f",
             "gridcolor": "white",
             "linecolor": "white",
             "minorgridcolor": "white",
             "startlinecolor": "#2a3f5f"
            },
            "baxis": {
             "endlinecolor": "#2a3f5f",
             "gridcolor": "white",
             "linecolor": "white",
             "minorgridcolor": "white",
             "startlinecolor": "#2a3f5f"
            },
            "type": "carpet"
           }
          ],
          "choropleth": [
           {
            "colorbar": {
             "outlinewidth": 0,
             "ticks": ""
            },
            "type": "choropleth"
           }
          ],
          "contour": [
           {
            "colorbar": {
             "outlinewidth": 0,
             "ticks": ""
            },
            "colorscale": [
             [
              0,
              "#0d0887"
             ],
             [
              0.1111111111111111,
              "#46039f"
             ],
             [
              0.2222222222222222,
              "#7201a8"
             ],
             [
              0.3333333333333333,
              "#9c179e"
             ],
             [
              0.4444444444444444,
              "#bd3786"
             ],
             [
              0.5555555555555556,
              "#d8576b"
             ],
             [
              0.6666666666666666,
              "#ed7953"
             ],
             [
              0.7777777777777778,
              "#fb9f3a"
             ],
             [
              0.8888888888888888,
              "#fdca26"
             ],
             [
              1,
              "#f0f921"
             ]
            ],
            "type": "contour"
           }
          ],
          "contourcarpet": [
           {
            "colorbar": {
             "outlinewidth": 0,
             "ticks": ""
            },
            "type": "contourcarpet"
           }
          ],
          "heatmap": [
           {
            "colorbar": {
             "outlinewidth": 0,
             "ticks": ""
            },
            "colorscale": [
             [
              0,
              "#0d0887"
             ],
             [
              0.1111111111111111,
              "#46039f"
             ],
             [
              0.2222222222222222,
              "#7201a8"
             ],
             [
              0.3333333333333333,
              "#9c179e"
             ],
             [
              0.4444444444444444,
              "#bd3786"
             ],
             [
              0.5555555555555556,
              "#d8576b"
             ],
             [
              0.6666666666666666,
              "#ed7953"
             ],
             [
              0.7777777777777778,
              "#fb9f3a"
             ],
             [
              0.8888888888888888,
              "#fdca26"
             ],
             [
              1,
              "#f0f921"
             ]
            ],
            "type": "heatmap"
           }
          ],
          "heatmapgl": [
           {
            "colorbar": {
             "outlinewidth": 0,
             "ticks": ""
            },
            "colorscale": [
             [
              0,
              "#0d0887"
             ],
             [
              0.1111111111111111,
              "#46039f"
             ],
             [
              0.2222222222222222,
              "#7201a8"
             ],
             [
              0.3333333333333333,
              "#9c179e"
             ],
             [
              0.4444444444444444,
              "#bd3786"
             ],
             [
              0.5555555555555556,
              "#d8576b"
             ],
             [
              0.6666666666666666,
              "#ed7953"
             ],
             [
              0.7777777777777778,
              "#fb9f3a"
             ],
             [
              0.8888888888888888,
              "#fdca26"
             ],
             [
              1,
              "#f0f921"
             ]
            ],
            "type": "heatmapgl"
           }
          ],
          "histogram": [
           {
            "marker": {
             "colorbar": {
              "outlinewidth": 0,
              "ticks": ""
             }
            },
            "type": "histogram"
           }
          ],
          "histogram2d": [
           {
            "colorbar": {
             "outlinewidth": 0,
             "ticks": ""
            },
            "colorscale": [
             [
              0,
              "#0d0887"
             ],
             [
              0.1111111111111111,
              "#46039f"
             ],
             [
              0.2222222222222222,
              "#7201a8"
             ],
             [
              0.3333333333333333,
              "#9c179e"
             ],
             [
              0.4444444444444444,
              "#bd3786"
             ],
             [
              0.5555555555555556,
              "#d8576b"
             ],
             [
              0.6666666666666666,
              "#ed7953"
             ],
             [
              0.7777777777777778,
              "#fb9f3a"
             ],
             [
              0.8888888888888888,
              "#fdca26"
             ],
             [
              1,
              "#f0f921"
             ]
            ],
            "type": "histogram2d"
           }
          ],
          "histogram2dcontour": [
           {
            "colorbar": {
             "outlinewidth": 0,
             "ticks": ""
            },
            "colorscale": [
             [
              0,
              "#0d0887"
             ],
             [
              0.1111111111111111,
              "#46039f"
             ],
             [
              0.2222222222222222,
              "#7201a8"
             ],
             [
              0.3333333333333333,
              "#9c179e"
             ],
             [
              0.4444444444444444,
              "#bd3786"
             ],
             [
              0.5555555555555556,
              "#d8576b"
             ],
             [
              0.6666666666666666,
              "#ed7953"
             ],
             [
              0.7777777777777778,
              "#fb9f3a"
             ],
             [
              0.8888888888888888,
              "#fdca26"
             ],
             [
              1,
              "#f0f921"
             ]
            ],
            "type": "histogram2dcontour"
           }
          ],
          "mesh3d": [
           {
            "colorbar": {
             "outlinewidth": 0,
             "ticks": ""
            },
            "type": "mesh3d"
           }
          ],
          "parcoords": [
           {
            "line": {
             "colorbar": {
              "outlinewidth": 0,
              "ticks": ""
             }
            },
            "type": "parcoords"
           }
          ],
          "pie": [
           {
            "automargin": true,
            "type": "pie"
           }
          ],
          "scatter": [
           {
            "marker": {
             "colorbar": {
              "outlinewidth": 0,
              "ticks": ""
             }
            },
            "type": "scatter"
           }
          ],
          "scatter3d": [
           {
            "line": {
             "colorbar": {
              "outlinewidth": 0,
              "ticks": ""
             }
            },
            "marker": {
             "colorbar": {
              "outlinewidth": 0,
              "ticks": ""
             }
            },
            "type": "scatter3d"
           }
          ],
          "scattercarpet": [
           {
            "marker": {
             "colorbar": {
              "outlinewidth": 0,
              "ticks": ""
             }
            },
            "type": "scattercarpet"
           }
          ],
          "scattergeo": [
           {
            "marker": {
             "colorbar": {
              "outlinewidth": 0,
              "ticks": ""
             }
            },
            "type": "scattergeo"
           }
          ],
          "scattergl": [
           {
            "marker": {
             "colorbar": {
              "outlinewidth": 0,
              "ticks": ""
             }
            },
            "type": "scattergl"
           }
          ],
          "scattermapbox": [
           {
            "marker": {
             "colorbar": {
              "outlinewidth": 0,
              "ticks": ""
             }
            },
            "type": "scattermapbox"
           }
          ],
          "scatterpolar": [
           {
            "marker": {
             "colorbar": {
              "outlinewidth": 0,
              "ticks": ""
             }
            },
            "type": "scatterpolar"
           }
          ],
          "scatterpolargl": [
           {
            "marker": {
             "colorbar": {
              "outlinewidth": 0,
              "ticks": ""
             }
            },
            "type": "scatterpolargl"
           }
          ],
          "scatterternary": [
           {
            "marker": {
             "colorbar": {
              "outlinewidth": 0,
              "ticks": ""
             }
            },
            "type": "scatterternary"
           }
          ],
          "surface": [
           {
            "colorbar": {
             "outlinewidth": 0,
             "ticks": ""
            },
            "colorscale": [
             [
              0,
              "#0d0887"
             ],
             [
              0.1111111111111111,
              "#46039f"
             ],
             [
              0.2222222222222222,
              "#7201a8"
             ],
             [
              0.3333333333333333,
              "#9c179e"
             ],
             [
              0.4444444444444444,
              "#bd3786"
             ],
             [
              0.5555555555555556,
              "#d8576b"
             ],
             [
              0.6666666666666666,
              "#ed7953"
             ],
             [
              0.7777777777777778,
              "#fb9f3a"
             ],
             [
              0.8888888888888888,
              "#fdca26"
             ],
             [
              1,
              "#f0f921"
             ]
            ],
            "type": "surface"
           }
          ],
          "table": [
           {
            "cells": {
             "fill": {
              "color": "#EBF0F8"
             },
             "line": {
              "color": "white"
             }
            },
            "header": {
             "fill": {
              "color": "#C8D4E3"
             },
             "line": {
              "color": "white"
             }
            },
            "type": "table"
           }
          ]
         },
         "layout": {
          "annotationdefaults": {
           "arrowcolor": "#2a3f5f",
           "arrowhead": 0,
           "arrowwidth": 1
          },
          "coloraxis": {
           "colorbar": {
            "outlinewidth": 0,
            "ticks": ""
           }
          },
          "colorscale": {
           "diverging": [
            [
             0,
             "#8e0152"
            ],
            [
             0.1,
             "#c51b7d"
            ],
            [
             0.2,
             "#de77ae"
            ],
            [
             0.3,
             "#f1b6da"
            ],
            [
             0.4,
             "#fde0ef"
            ],
            [
             0.5,
             "#f7f7f7"
            ],
            [
             0.6,
             "#e6f5d0"
            ],
            [
             0.7,
             "#b8e186"
            ],
            [
             0.8,
             "#7fbc41"
            ],
            [
             0.9,
             "#4d9221"
            ],
            [
             1,
             "#276419"
            ]
           ],
           "sequential": [
            [
             0,
             "#0d0887"
            ],
            [
             0.1111111111111111,
             "#46039f"
            ],
            [
             0.2222222222222222,
             "#7201a8"
            ],
            [
             0.3333333333333333,
             "#9c179e"
            ],
            [
             0.4444444444444444,
             "#bd3786"
            ],
            [
             0.5555555555555556,
             "#d8576b"
            ],
            [
             0.6666666666666666,
             "#ed7953"
            ],
            [
             0.7777777777777778,
             "#fb9f3a"
            ],
            [
             0.8888888888888888,
             "#fdca26"
            ],
            [
             1,
             "#f0f921"
            ]
           ],
           "sequentialminus": [
            [
             0,
             "#0d0887"
            ],
            [
             0.1111111111111111,
             "#46039f"
            ],
            [
             0.2222222222222222,
             "#7201a8"
            ],
            [
             0.3333333333333333,
             "#9c179e"
            ],
            [
             0.4444444444444444,
             "#bd3786"
            ],
            [
             0.5555555555555556,
             "#d8576b"
            ],
            [
             0.6666666666666666,
             "#ed7953"
            ],
            [
             0.7777777777777778,
             "#fb9f3a"
            ],
            [
             0.8888888888888888,
             "#fdca26"
            ],
            [
             1,
             "#f0f921"
            ]
           ]
          },
          "colorway": [
           "#636efa",
           "#EF553B",
           "#00cc96",
           "#ab63fa",
           "#FFA15A",
           "#19d3f3",
           "#FF6692",
           "#B6E880",
           "#FF97FF",
           "#FECB52"
          ],
          "font": {
           "color": "#2a3f5f"
          },
          "geo": {
           "bgcolor": "white",
           "lakecolor": "white",
           "landcolor": "#E5ECF6",
           "showlakes": true,
           "showland": true,
           "subunitcolor": "white"
          },
          "hoverlabel": {
           "align": "left"
          },
          "hovermode": "closest",
          "mapbox": {
           "style": "light"
          },
          "paper_bgcolor": "white",
          "plot_bgcolor": "#E5ECF6",
          "polar": {
           "angularaxis": {
            "gridcolor": "white",
            "linecolor": "white",
            "ticks": ""
           },
           "bgcolor": "#E5ECF6",
           "radialaxis": {
            "gridcolor": "white",
            "linecolor": "white",
            "ticks": ""
           }
          },
          "scene": {
           "xaxis": {
            "backgroundcolor": "#E5ECF6",
            "gridcolor": "white",
            "gridwidth": 2,
            "linecolor": "white",
            "showbackground": true,
            "ticks": "",
            "zerolinecolor": "white"
           },
           "yaxis": {
            "backgroundcolor": "#E5ECF6",
            "gridcolor": "white",
            "gridwidth": 2,
            "linecolor": "white",
            "showbackground": true,
            "ticks": "",
            "zerolinecolor": "white"
           },
           "zaxis": {
            "backgroundcolor": "#E5ECF6",
            "gridcolor": "white",
            "gridwidth": 2,
            "linecolor": "white",
            "showbackground": true,
            "ticks": "",
            "zerolinecolor": "white"
           }
          },
          "shapedefaults": {
           "line": {
            "color": "#2a3f5f"
           }
          },
          "ternary": {
           "aaxis": {
            "gridcolor": "white",
            "linecolor": "white",
            "ticks": ""
           },
           "baxis": {
            "gridcolor": "white",
            "linecolor": "white",
            "ticks": ""
           },
           "bgcolor": "#E5ECF6",
           "caxis": {
            "gridcolor": "white",
            "linecolor": "white",
            "ticks": ""
           }
          },
          "title": {
           "x": 0.05
          },
          "xaxis": {
           "automargin": true,
           "gridcolor": "white",
           "linecolor": "white",
           "ticks": "",
           "title": {
            "standoff": 15
           },
           "zerolinecolor": "white",
           "zerolinewidth": 2
          },
          "yaxis": {
           "automargin": true,
           "gridcolor": "white",
           "linecolor": "white",
           "ticks": "",
           "title": {
            "standoff": 15
           },
           "zerolinecolor": "white",
           "zerolinewidth": 2
          }
         }
        },
        "xaxis": {
         "autorange": true,
         "range": [
          -11.045702916740893,
          10.639231160790834
         ],
         "type": "linear"
        },
        "yaxis": {
         "autorange": true,
         "range": [
          -7.351773886013542,
          7.699000675115763
         ],
         "type": "linear"
        }
       }
      },
      "image/png": "[encoded data removed]",
      "text/html": [
       "<div>\n",
       "        \n",
       "        \n",
       "            <div id=\"7bc57d86-bf3e-45aa-993d-df67c7cf534f\" class=\"plotly-graph-div\" style=\"height:525px; width:100%;\"></div>\n",
       "            <script type=\"text/javascript\">\n",
       "                require([\"plotly\"], function(Plotly) {\n",
       "                    window.PLOTLYENV=window.PLOTLYENV || {};\n",
       "                    \n",
       "                if (document.getElementById(\"7bc57d86-bf3e-45aa-993d-df67c7cf534f\")) {\n",
       "                    Plotly.newPlot(\n",
       "                        '7bc57d86-bf3e-45aa-993d-df67c7cf534f',\n",
       "                        [{\"mode\": \"markers\", \"type\": \"scatter\", \"x\": [-5.286279416400534, -0.4960276116029121, -6.4536803209741755, 4.529152961922895, 8.721441344808095, 3.0196724297027817, -2.9511706888222307, 0.7511646692659735, 1.4058366326847764, 2.9135686897477306, 3.3170894098041366, 4.334025670827499, -7.655732827279653, -4.582578808449833, 2.8143504525981395, -7.850944873961967, -6.676163987797339, -3.663169789350727, -4.225837578994087, 4.462312758674363, 9.044364528769936, -1.4664599462380234, -6.707652137252675, -8.002558951326455, 3.860892561007258, 7.089409768160994, 8.635302693987047, -7.666528367593342, 9.103747978138152, -4.005803716757481, 6.555573376711834, 3.0675745969993606, 5.866273716698629, -7.5059104750759325, 6.2027430091726075, -2.5462598147343307, -3.0922317581723524, 1.3134971041850605, -1.869607019563686, -8.195478359073423, 4.089847561918674, -6.697349413694715, 9.47470952819683, 7.269687476171022, 7.010536606336352, 3.2164490593463135, -8.238634778925146, -5.048895395269588, -7.079712299465115, 2.5529058454295885, 6.013962859700463, 8.257507991292012, 7.067119239624827, -0.7219673157106126, -7.656509910737914, 1.807841015874132, -6.825862052656246, 5.607917774311575, 5.279913127498379, 1.761887540340565, -5.8102089447170835, 0.8977205875563303, -9.371211571283236, -4.59181939423257, 7.2625065264656925, 8.085329787509036, -7.3854399768872225, -2.5855107091854297, 0.48540252703299913, -2.868831231201458, -8.225298243944984, 3.014063161300932, -6.067753763276336, -1.4785330525226783, 2.059510228742017, 8.411320534913425, 4.086362297162848, 3.5899280885710816, -9.473257524428472, 0.12110708203734788, -3.0007199695635256, 2.6506516368252893, -8.551343634924375, -3.3326462513620463, -4.957255442659079, -8.286027948984273, -9.881181284146889, 2.3777799636845547, 3.88836717533545, 4.503847339949905, -6.3950672094901995, -1.4859907319799248, -3.0461907843610003, 0.39556326012188237, 0.3761899057398992, 4.330335117350552, -7.299465972483629, -6.728073683858236, 4.457371197813519, -0.23323063115430998], \"y\": [-1.9650224870340474, 0.9879218327785653, -3.1815768206552875, 4.024985408853311, 6.010314500562942, 2.4786835229697055, 0.13227339382629144, 2.419669628412972, 1.3241645205991222, 4.803670988589355, 2.4926920601320295, 3.8202883130160896, -3.883245624843333, -0.48869277919813014, 3.9082098076925043, -4.444753431304047, -2.7473883554259415, -1.0847949163296842, 0.022686392268885358, 2.3176235808791628, 6.5649156036916585, -0.6549292821356063, -1.2717427578564935, -3.2866422952859438, 2.6348719349516267, 1.7626182843702916, 6.545385413668021, -3.5802457071570792, 5.569457727367299, -2.190271426895654, 4.949508878289876, 3.6542124517141623, 5.063285573737729, -4.189929926525004, 4.720221973405575, 0.9839140071309322, -1.2536849536912966, 1.9922929237350737, 1.1153538054015824, -2.571711297521183, 4.132814035289114, -2.7702649719388313, 5.63106660831296, 5.619666677981004, 2.580392206444219, 2.548081848784553, -2.4909341267015153, -0.7851233162688148, -3.3749416445681657, 2.545305300396315, 5.026352994438619, 6.737423411488058, 4.558105350201228, -0.09105061444276918, -1.8851007873699304, 1.8177354675440656, -1.2859048353893838, 3.2819568984830303, 3.8719401346339146, 1.9131864594119201, -2.7555116767102668, 3.0909795296967504, -2.077138864530993, -1.9097823491841388, 6.1593471140718155, 4.479619927563868, -2.5096513006313583, -2.6977053851933173, 3.8171154935519924, -1.720542079271757, -1.8223574074016275, 2.8791426763309236, -1.7583096328161434, 2.1606066687092, 3.8344962434807255, 4.715348740847116, 2.888361267397886, 2.8301995601117627, -2.9689720733302307, 2.6620205799274625, 2.159352090879335, 2.781965489637564, -5.300827677691766, 1.0897374847879187, -2.006355864428969, -2.432042479812747, -6.390196622385837, 2.287848377277316, 1.55902773536955, 4.424811060957374, -2.860882271522743, 1.5474819270210163, -1.147970185696862, 1.6405080221384196, 3.0399289053318825, 4.560474263136539, -2.8837597455435704, -4.987889099930941, 2.6780655852330404, 1.3720599404629266]}, {\"mode\": \"lines+markers\", \"type\": \"scatter\", \"x\": [-5.286279416400534, -0.4960276116029121, -6.4536803209741755, 4.529152961922895, 8.721441344808095, 3.0196724297027817, -2.9511706888222307, 0.7511646692659735, 1.4058366326847764, 2.9135686897477306, 3.3170894098041366, 4.334025670827499, -7.655732827279653, -4.582578808449833, 2.8143504525981395, -7.850944873961967, -6.676163987797339, -3.663169789350727, -4.225837578994087, 4.462312758674363, 9.044364528769936, -1.4664599462380234, -6.707652137252675, -8.002558951326455, 3.860892561007258, 7.089409768160994, 8.635302693987047, -7.666528367593342, 9.103747978138152, -4.005803716757481, 6.555573376711834, 3.0675745969993606, 5.866273716698629, -7.5059104750759325, 6.2027430091726075, -2.5462598147343307, -3.0922317581723524, 1.3134971041850605, -1.869607019563686, -8.195478359073423, 4.089847561918674, -6.697349413694715, 9.47470952819683, 7.269687476171022, 7.010536606336352, 3.2164490593463135, -8.238634778925146, -5.048895395269588, -7.079712299465115, 2.5529058454295885, 6.013962859700463, 8.257507991292012, 7.067119239624827, -0.7219673157106126, -7.656509910737914, 1.807841015874132, -6.825862052656246, 5.607917774311575, 5.279913127498379, 1.761887540340565, -5.8102089447170835, 0.8977205875563303, -9.371211571283236, -4.59181939423257, 7.2625065264656925, 8.085329787509036, -7.3854399768872225, -2.5855107091854297, 0.48540252703299913, -2.868831231201458, -8.225298243944984, 3.014063161300932, -6.067753763276336, -1.4785330525226783, 2.059510228742017, 8.411320534913425, 4.086362297162848, 3.5899280885710816, -9.473257524428472, 0.12110708203734788, -3.0007199695635256, 2.6506516368252893, -8.551343634924375, -3.3326462513620463, -4.957255442659079, -8.286027948984273, -9.881181284146889, 2.3777799636845547, 3.88836717533545, 4.503847339949905, -6.3950672094901995, -1.4859907319799248, -3.0461907843610003, 0.39556326012188237, 0.3761899057398992, 4.330335117350552, -7.299465972483629, -6.728073683858236, 4.457371197813519, -0.23323063115430998], \"y\": [-2.231252985295646, 0.3085430106544715, -2.850210038896703, 2.9728984599409976, 5.195653689228962, 2.1725704671917176, -0.993176149653786, 0.9698055267414551, 1.3169132152530665, 2.1163141648354875, 2.330261228757207, 2.8694417873443014, -3.487539404208729, -1.858150263507441, 2.0637085625192633, -3.591041014297035, -2.9681710875405, -1.3706787399834313, -1.6690057293402427, 2.937459721541256, 5.366867863983685, -0.20598112258175805, -2.9848661338899314, -3.6714269401964494, 2.618586169134552, 4.330349017879314, 5.149982895841288, -3.493263209799776, 5.398353024488201, -1.5523435693840022, 4.047308462863581, 2.1979682411824992, 3.68184113716727, -3.4081034526686165, 3.8602374713494734, -0.7784920247618258, -1.0679668608145363, 1.2679547107091893, -0.419730078656685, -3.7737129909727547, 2.739978325176365, -2.9794036202046, 5.595037185965237, 4.425932427608289, 4.2885303935661785, 2.276901620632265, -3.7965945652209334, -2.1053917548344243, -3.1821327805604245, 1.9250903867932188, 3.760146059189466, 4.949675790432964, 4.318530558760512, 0.1887495678036868, -3.48795141458652, 1.5300563159468843, -3.04754114181392, 3.5448605744028288, 3.3709522032823704, 1.505691740155012, -2.509040912194538, 1.0475096119596572, -4.397087841890892, -1.8630496307489968, 4.422125081345103, 4.858386745435388, -3.3442298816335074, -0.7993028857826431, 0.8288981898782002, -0.9495196920612029, -3.7895235218765015, 2.1695964278284925, -2.6455914163453573, -0.21238229484784565, 1.6634915684539866, 5.031227345202029, 2.738130434536711, 2.4749205519223456, -4.45119270187792, 0.6357484035525289, -1.019447224736501, 1.9769152969908705, -3.9623930937178167, -1.195434850401225, -2.0568041660825926, -3.8217224683994258, -4.667474261554619, 1.8322384801778293, 2.6331532353984026, 2.9594813954564843, -2.8191333122603104, -0.2163363634848271, -1.0435558933537856, 0.7812653263716463, 0.7709935557231381, 2.8674850524323285, -3.2986463839306617, -2.995693657037663, 2.934839701341995, 0.44787821596093647]}],\n",
       "                        {\"template\": {\"data\": {\"bar\": [{\"error_x\": {\"color\": \"#2a3f5f\"}, \"error_y\": {\"color\": \"#2a3f5f\"}, \"marker\": {\"line\": {\"color\": \"#E5ECF6\", \"width\": 0.5}}, \"type\": \"bar\"}], \"barpolar\": [{\"marker\": {\"line\": {\"color\": \"#E5ECF6\", \"width\": 0.5}}, \"type\": \"barpolar\"}], \"carpet\": [{\"aaxis\": {\"endlinecolor\": \"#2a3f5f\", \"gridcolor\": \"white\", \"linecolor\": \"white\", \"minorgridcolor\": \"white\", \"startlinecolor\": \"#2a3f5f\"}, \"baxis\": {\"endlinecolor\": \"#2a3f5f\", \"gridcolor\": \"white\", \"linecolor\": \"white\", \"minorgridcolor\": \"white\", \"startlinecolor\": \"#2a3f5f\"}, \"type\": \"carpet\"}], \"choropleth\": [{\"colorbar\": {\"outlinewidth\": 0, \"ticks\": \"\"}, \"type\": \"choropleth\"}], \"contour\": [{\"colorbar\": {\"outlinewidth\": 0, \"ticks\": \"\"}, \"colorscale\": [[0.0, \"#0d0887\"], [0.1111111111111111, \"#46039f\"], [0.2222222222222222, \"#7201a8\"], [0.3333333333333333, \"#9c179e\"], [0.4444444444444444, \"#bd3786\"], [0.5555555555555556, \"#d8576b\"], [0.6666666666666666, \"#ed7953\"], [0.7777777777777778, \"#fb9f3a\"], [0.8888888888888888, \"#fdca26\"], [1.0, \"#f0f921\"]], \"type\": \"contour\"}], \"contourcarpet\": [{\"colorbar\": {\"outlinewidth\": 0, \"ticks\": \"\"}, \"type\": \"contourcarpet\"}], \"heatmap\": [{\"colorbar\": {\"outlinewidth\": 0, \"ticks\": \"\"}, \"colorscale\": [[0.0, \"#0d0887\"], [0.1111111111111111, \"#46039f\"], [0.2222222222222222, \"#7201a8\"], [0.3333333333333333, \"#9c179e\"], [0.4444444444444444, \"#bd3786\"], [0.5555555555555556, \"#d8576b\"], [0.6666666666666666, \"#ed7953\"], [0.7777777777777778, \"#fb9f3a\"], [0.8888888888888888, \"#fdca26\"], [1.0, \"#f0f921\"]], \"type\": \"heatmap\"}], \"heatmapgl\": [{\"colorbar\": {\"outlinewidth\": 0, \"ticks\": \"\"}, \"colorscale\": [[0.0, \"#0d0887\"], [0.1111111111111111, \"#46039f\"], [0.2222222222222222, \"#7201a8\"], [0.3333333333333333, \"#9c179e\"], [0.4444444444444444, \"#bd3786\"], [0.5555555555555556, \"#d8576b\"], [0.6666666666666666, \"#ed7953\"], [0.7777777777777778, \"#fb9f3a\"], [0.8888888888888888, \"#fdca26\"], [1.0, \"#f0f921\"]], \"type\": \"heatmapgl\"}], \"histogram\": [{\"marker\": {\"colorbar\": {\"outlinewidth\": 0, \"ticks\": \"\"}}, \"type\": \"histogram\"}], \"histogram2d\": [{\"colorbar\": {\"outlinewidth\": 0, \"ticks\": \"\"}, \"colorscale\": [[0.0, \"#0d0887\"], [0.1111111111111111, \"#46039f\"], [0.2222222222222222, \"#7201a8\"], [0.3333333333333333, \"#9c179e\"], [0.4444444444444444, \"#bd3786\"], [0.5555555555555556, \"#d8576b\"], [0.6666666666666666, \"#ed7953\"], [0.7777777777777778, \"#fb9f3a\"], [0.8888888888888888, \"#fdca26\"], [1.0, \"#f0f921\"]], \"type\": \"histogram2d\"}], \"histogram2dcontour\": [{\"colorbar\": {\"outlinewidth\": 0, \"ticks\": \"\"}, \"colorscale\": [[0.0, \"#0d0887\"], [0.1111111111111111, \"#46039f\"], [0.2222222222222222, \"#7201a8\"], [0.3333333333333333, \"#9c179e\"], [0.4444444444444444, \"#bd3786\"], [0.5555555555555556, \"#d8576b\"], [0.6666666666666666, \"#ed7953\"], [0.7777777777777778, \"#fb9f3a\"], [0.8888888888888888, \"#fdca26\"], [1.0, \"#f0f921\"]], \"type\": \"histogram2dcontour\"}], \"mesh3d\": [{\"colorbar\": {\"outlinewidth\": 0, \"ticks\": \"\"}, \"type\": \"mesh3d\"}], \"parcoords\": [{\"line\": {\"colorbar\": {\"outlinewidth\": 0, \"ticks\": \"\"}}, \"type\": \"parcoords\"}], \"pie\": [{\"automargin\": true, \"type\": \"pie\"}], \"scatter\": [{\"marker\": {\"colorbar\": {\"outlinewidth\": 0, \"ticks\": \"\"}}, \"type\": \"scatter\"}], \"scatter3d\": [{\"line\": {\"colorbar\": {\"outlinewidth\": 0, \"ticks\": \"\"}}, \"marker\": {\"colorbar\": {\"outlinewidth\": 0, \"ticks\": \"\"}}, \"type\": \"scatter3d\"}], \"scattercarpet\": [{\"marker\": {\"colorbar\": {\"outlinewidth\": 0, \"ticks\": \"\"}}, \"type\": \"scattercarpet\"}], \"scattergeo\": [{\"marker\": {\"colorbar\": {\"outlinewidth\": 0, \"ticks\": \"\"}}, \"type\": \"scattergeo\"}], \"scattergl\": [{\"marker\": {\"colorbar\": {\"outlinewidth\": 0, \"ticks\": \"\"}}, \"type\": \"scattergl\"}], \"scattermapbox\": [{\"marker\": {\"colorbar\": {\"outlinewidth\": 0, \"ticks\": \"\"}}, \"type\": \"scattermapbox\"}], \"scatterpolar\": [{\"marker\": {\"colorbar\": {\"outlinewidth\": 0, \"ticks\": \"\"}}, \"type\": \"scatterpolar\"}], \"scatterpolargl\": [{\"marker\": {\"colorbar\": {\"outlinewidth\": 0, \"ticks\": \"\"}}, \"type\": \"scatterpolargl\"}], \"scatterternary\": [{\"marker\": {\"colorbar\": {\"outlinewidth\": 0, \"ticks\": \"\"}}, \"type\": \"scatterternary\"}], \"surface\": [{\"colorbar\": {\"outlinewidth\": 0, \"ticks\": \"\"}, \"colorscale\": [[0.0, \"#0d0887\"], [0.1111111111111111, \"#46039f\"], [0.2222222222222222, \"#7201a8\"], [0.3333333333333333, \"#9c179e\"], [0.4444444444444444, \"#bd3786\"], [0.5555555555555556, \"#d8576b\"], [0.6666666666666666, \"#ed7953\"], [0.7777777777777778, \"#fb9f3a\"], [0.8888888888888888, \"#fdca26\"], [1.0, \"#f0f921\"]], \"type\": \"surface\"}], \"table\": [{\"cells\": {\"fill\": {\"color\": \"#EBF0F8\"}, \"line\": {\"color\": \"white\"}}, \"header\": {\"fill\": {\"color\": \"#C8D4E3\"}, \"line\": {\"color\": \"white\"}}, \"type\": \"table\"}]}, \"layout\": {\"annotationdefaults\": {\"arrowcolor\": \"#2a3f5f\", \"arrowhead\": 0, \"arrowwidth\": 1}, \"coloraxis\": {\"colorbar\": {\"outlinewidth\": 0, \"ticks\": \"\"}}, \"colorscale\": {\"diverging\": [[0, \"#8e0152\"], [0.1, \"#c51b7d\"], [0.2, \"#de77ae\"], [0.3, \"#f1b6da\"], [0.4, \"#fde0ef\"], [0.5, \"#f7f7f7\"], [0.6, \"#e6f5d0\"], [0.7, \"#b8e186\"], [0.8, \"#7fbc41\"], [0.9, \"#4d9221\"], [1, \"#276419\"]], \"sequential\": [[0.0, \"#0d0887\"], [0.1111111111111111, \"#46039f\"], [0.2222222222222222, \"#7201a8\"], [0.3333333333333333, \"#9c179e\"], [0.4444444444444444, \"#bd3786\"], [0.5555555555555556, \"#d8576b\"], [0.6666666666666666, \"#ed7953\"], [0.7777777777777778, \"#fb9f3a\"], [0.8888888888888888, \"#fdca26\"], [1.0, \"#f0f921\"]], \"sequentialminus\": [[0.0, \"#0d0887\"], [0.1111111111111111, \"#46039f\"], [0.2222222222222222, \"#7201a8\"], [0.3333333333333333, \"#9c179e\"], [0.4444444444444444, \"#bd3786\"], [0.5555555555555556, \"#d8576b\"], [0.6666666666666666, \"#ed7953\"], [0.7777777777777778, \"#fb9f3a\"], [0.8888888888888888, \"#fdca26\"], [1.0, \"#f0f921\"]]}, \"colorway\": [\"#636efa\", \"#EF553B\", \"#00cc96\", \"#ab63fa\", \"#FFA15A\", \"#19d3f3\", \"#FF6692\", \"#B6E880\", \"#FF97FF\", \"#FECB52\"], \"font\": {\"color\": \"#2a3f5f\"}, \"geo\": {\"bgcolor\": \"white\", \"lakecolor\": \"white\", \"landcolor\": \"#E5ECF6\", \"showlakes\": true, \"showland\": true, \"subunitcolor\": \"white\"}, \"hoverlabel\": {\"align\": \"left\"}, \"hovermode\": \"closest\", \"mapbox\": {\"style\": \"light\"}, \"paper_bgcolor\": \"white\", \"plot_bgcolor\": \"#E5ECF6\", \"polar\": {\"angularaxis\": {\"gridcolor\": \"white\", \"linecolor\": \"white\", \"ticks\": \"\"}, \"bgcolor\": \"#E5ECF6\", \"radialaxis\": {\"gridcolor\": \"white\", \"linecolor\": \"white\", \"ticks\": \"\"}}, \"scene\": {\"xaxis\": {\"backgroundcolor\": \"#E5ECF6\", \"gridcolor\": \"white\", \"gridwidth\": 2, \"linecolor\": \"white\", \"showbackground\": true, \"ticks\": \"\", \"zerolinecolor\": \"white\"}, \"yaxis\": {\"backgroundcolor\": \"#E5ECF6\", \"gridcolor\": \"white\", \"gridwidth\": 2, \"linecolor\": \"white\", \"showbackground\": true, \"ticks\": \"\", \"zerolinecolor\": \"white\"}, \"zaxis\": {\"backgroundcolor\": \"#E5ECF6\", \"gridcolor\": \"white\", \"gridwidth\": 2, \"linecolor\": \"white\", \"showbackground\": true, \"ticks\": \"\", \"zerolinecolor\": \"white\"}}, \"shapedefaults\": {\"line\": {\"color\": \"#2a3f5f\"}}, \"ternary\": {\"aaxis\": {\"gridcolor\": \"white\", \"linecolor\": \"white\", \"ticks\": \"\"}, \"baxis\": {\"gridcolor\": \"white\", \"linecolor\": \"white\", \"ticks\": \"\"}, \"bgcolor\": \"#E5ECF6\", \"caxis\": {\"gridcolor\": \"white\", \"linecolor\": \"white\", \"ticks\": \"\"}}, \"title\": {\"x\": 0.05}, \"xaxis\": {\"automargin\": true, \"gridcolor\": \"white\", \"linecolor\": \"white\", \"ticks\": \"\", \"title\": {\"standoff\": 15}, \"zerolinecolor\": \"white\", \"zerolinewidth\": 2}, \"yaxis\": {\"automargin\": true, \"gridcolor\": \"white\", \"linecolor\": \"white\", \"ticks\": \"\", \"title\": {\"standoff\": 15}, \"zerolinecolor\": \"white\", \"zerolinewidth\": 2}}}},\n",
       "                        {\"responsive\": true}\n",
       "                    ).then(function(){\n",
       "                            \n",
       "var gd = document.getElementById('7bc57d86-bf3e-45aa-993d-df67c7cf534f');\n",
       "var x = new MutationObserver(function (mutations, observer) {{\n",
       "        var display = window.getComputedStyle(gd).display;\n",
       "        if (!display || display === 'none') {{\n",
       "            console.log([gd, 'removed!']);\n",
       "            Plotly.purge(gd);\n",
       "            observer.disconnect();\n",
       "        }}\n",
       "}});\n",
       "\n",
       "// Listen for the removal of the full notebook cells\n",
       "var notebookContainer = gd.closest('#notebook-container');\n",
       "if (notebookContainer) {{\n",
       "    x.observe(notebookContainer, {childList: true});\n",
       "}}\n",
       "\n",
       "// Listen for the clearing of the current output cell\n",
       "var outputEl = gd.closest('.output');\n",
       "if (outputEl) {{\n",
       "    x.observe(outputEl, {childList: true});\n",
       "}}\n",
       "\n",
       "                        })\n",
       "                };\n",
       "                });\n",
       "            </script>\n",
       "        </div>"
      ]
     },
     "metadata": {},
     "output_type": "display_data"
    }
   ],
   "source": [
    "%%time\n",
    "ls_gd = LSRegression_GD(2)\n",
    "ls_gd.fit(X, y, 10000, 0.0001)\n",
    "y_hat_gd = ls_gd.predict(X)\n",
    "plot_regression(X[:, 1], y, y_hat_gd)"
   ]
  },
  {
   "cell_type": "markdown",
   "metadata": {},
   "source": [
    "#### Questions:\n",
    "- Comparer les resultats entre la resolution explicite et le gradient. (Comparer le temps vs la perte)\n",
    "- Que se passe t'il lorsque n devient grand (Temps, perte pour les 2 algos)? Quand d devient grand?\n",
    "- Comparer les parametres entre la valeurs vraies (Les parametres theta utilisé pour généré les datasets et les parametres trouvées avec les 2 algos\n",
    "- Générée un dataset polynomial et plotez la regression linéaire qu'observez vous? Dans la pratique on vous donne un dataset et vous pensez que la regression est polynomiale selon une certaine variable, comment procedez vous? Comment pouvez vous élargir ceci à d'autres classes de fonction?"
   ]
  },
  {
   "cell_type": "code",
   "execution_count": null,
   "metadata": {},
   "outputs": [],
   "source": []
  }
 ],
 "metadata": {
  "kernelspec": {
   "display_name": "Python 3",
   "language": "python",
   "name": "python3"
  },
  "language_info": {
   "codemirror_mode": {
    "name": "ipython",
    "version": 3
   },
   "file_extension": ".py",
   "mimetype": "text/x-python",
   "name": "python",
   "nbconvert_exporter": "python",
   "pygments_lexer": "ipython3",
   "version": "3.7.3"
  }
 },
 "nbformat": 4,
 "nbformat_minor": 4
}
